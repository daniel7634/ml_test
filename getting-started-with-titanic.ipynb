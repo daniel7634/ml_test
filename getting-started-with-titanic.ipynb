{
 "cells": [
  {
   "cell_type": "code",
   "execution_count": 1,
   "id": "30b69c7f",
   "metadata": {
    "_cell_guid": "b1076dfc-b9ad-4769-8c92-a6c4dae69d19",
    "_uuid": "8f2839f25d086af736a60e9eeb907d3b93b6e0e5",
    "execution": {
     "iopub.execute_input": "2023-06-19T03:03:29.682218Z",
     "iopub.status.busy": "2023-06-19T03:03:29.681884Z",
     "iopub.status.idle": "2023-06-19T03:03:31.131145Z",
     "shell.execute_reply": "2023-06-19T03:03:31.130193Z"
    },
    "papermill": {
     "duration": 1.46565,
     "end_time": "2023-06-19T03:03:31.133748",
     "exception": false,
     "start_time": "2023-06-19T03:03:29.668098",
     "status": "completed"
    },
    "tags": []
   },
   "outputs": [
    {
     "name": "stderr",
     "output_type": "stream",
     "text": [
      "/opt/conda/lib/python3.10/site-packages/scipy/__init__.py:146: UserWarning: A NumPy version >=1.16.5 and <1.23.0 is required for this version of SciPy (detected version 1.23.5\n",
      "  warnings.warn(f\"A NumPy version >={np_minversion} and <{np_maxversion}\"\n"
     ]
    },
    {
     "name": "stdout",
     "output_type": "stream",
     "text": [
      "/kaggle/input/titanic/train.csv\n",
      "/kaggle/input/titanic/test.csv\n",
      "/kaggle/input/titanic/gender_submission.csv\n"
     ]
    }
   ],
   "source": [
    "# This Python 3 environment comes with many helpful analytics libraries installed\n",
    "# It is defined by the kaggle/python Docker image: https://github.com/kaggle/docker-python\n",
    "# For example, here's several helpful packages to load\n",
    "\n",
    "import numpy as np # linear algebra\n",
    "import pandas as pd # data processing, CSV file I/O (e.g. pd.read_csv)\n",
    "import seaborn as sns\n",
    "import matplotlib.pyplot as plt\n",
    "\n",
    "# Input data files are available in the read-only \"../input/\" directory\n",
    "# For example, running this (by clicking run or pressing Shift+Enter) will list all files under the input directory\n",
    "\n",
    "import os\n",
    "for dirname, _, filenames in os.walk('/kaggle/input'):\n",
    "    for filename in filenames:\n",
    "        print(os.path.join(dirname, filename))\n",
    "\n",
    "# You can write up to 20GB to the current directory (/kaggle/working/) that gets preserved as output when you create a version using \"Save & Run All\" \n",
    "# You can also write temporary files to /kaggle/temp/, but they won't be saved outside of the current session"
   ]
  },
  {
   "cell_type": "markdown",
   "id": "f5ea6764",
   "metadata": {
    "papermill": {
     "duration": 0.010145,
     "end_time": "2023-06-19T03:03:31.154280",
     "exception": false,
     "start_time": "2023-06-19T03:03:31.144135",
     "status": "completed"
    },
    "tags": []
   },
   "source": [
    "# Data"
   ]
  },
  {
   "cell_type": "code",
   "execution_count": 2,
   "id": "76ef4832",
   "metadata": {
    "execution": {
     "iopub.execute_input": "2023-06-19T03:03:31.176603Z",
     "iopub.status.busy": "2023-06-19T03:03:31.175901Z",
     "iopub.status.idle": "2023-06-19T03:03:31.229851Z",
     "shell.execute_reply": "2023-06-19T03:03:31.228410Z"
    },
    "papermill": {
     "duration": 0.068093,
     "end_time": "2023-06-19T03:03:31.232564",
     "exception": false,
     "start_time": "2023-06-19T03:03:31.164471",
     "status": "completed"
    },
    "tags": []
   },
   "outputs": [],
   "source": [
    "train = pd.read_csv('/kaggle/input/titanic/train.csv')\n",
    "test = pd.read_csv('/kaggle/input/titanic/test.csv')\n",
    "all_data = pd.concat([train.drop(labels='Survived', axis=1), test], ignore_index=True)"
   ]
  },
  {
   "cell_type": "code",
   "execution_count": 3,
   "id": "e5c710eb",
   "metadata": {
    "execution": {
     "iopub.execute_input": "2023-06-19T03:03:31.262158Z",
     "iopub.status.busy": "2023-06-19T03:03:31.261454Z",
     "iopub.status.idle": "2023-06-19T03:03:31.296003Z",
     "shell.execute_reply": "2023-06-19T03:03:31.294629Z"
    },
    "papermill": {
     "duration": 0.055821,
     "end_time": "2023-06-19T03:03:31.298912",
     "exception": false,
     "start_time": "2023-06-19T03:03:31.243091",
     "status": "completed"
    },
    "tags": []
   },
   "outputs": [
    {
     "name": "stdout",
     "output_type": "stream",
     "text": [
      "<class 'pandas.core.frame.DataFrame'>\n",
      "RangeIndex: 1309 entries, 0 to 1308\n",
      "Data columns (total 11 columns):\n",
      " #   Column       Non-Null Count  Dtype  \n",
      "---  ------       --------------  -----  \n",
      " 0   PassengerId  1309 non-null   int64  \n",
      " 1   Pclass       1309 non-null   int64  \n",
      " 2   Name         1309 non-null   object \n",
      " 3   Sex          1309 non-null   object \n",
      " 4   Age          1046 non-null   float64\n",
      " 5   SibSp        1309 non-null   int64  \n",
      " 6   Parch        1309 non-null   int64  \n",
      " 7   Ticket       1309 non-null   object \n",
      " 8   Fare         1308 non-null   float64\n",
      " 9   Cabin        295 non-null    object \n",
      " 10  Embarked     1307 non-null   object \n",
      "dtypes: float64(2), int64(4), object(5)\n",
      "memory usage: 112.6+ KB\n"
     ]
    }
   ],
   "source": [
    "all_data.info()"
   ]
  },
  {
   "cell_type": "markdown",
   "id": "d989bc26",
   "metadata": {
    "papermill": {
     "duration": 0.010221,
     "end_time": "2023-06-19T03:03:31.320181",
     "exception": false,
     "start_time": "2023-06-19T03:03:31.309960",
     "status": "completed"
    },
    "tags": []
   },
   "source": [
    "### Age and Fare\n"
   ]
  },
  {
   "cell_type": "code",
   "execution_count": 4,
   "id": "53d5c5b9",
   "metadata": {
    "execution": {
     "iopub.execute_input": "2023-06-19T03:03:31.346155Z",
     "iopub.status.busy": "2023-06-19T03:03:31.345771Z",
     "iopub.status.idle": "2023-06-19T03:03:32.132150Z",
     "shell.execute_reply": "2023-06-19T03:03:32.130617Z"
    },
    "papermill": {
     "duration": 0.802644,
     "end_time": "2023-06-19T03:03:32.134446",
     "exception": false,
     "start_time": "2023-06-19T03:03:31.331802",
     "status": "completed"
    },
    "tags": []
   },
   "outputs": [
    {
     "name": "stderr",
     "output_type": "stream",
     "text": [
      "/tmp/ipykernel_20/3146360470.py:5: UserWarning: The palette list has more values (10) than needed (3), which may not be intended.\n",
      "  sns.scatterplot(data=all_data, x='Age', y='Fare', hue='Pclass', ax=axs[1], palette=palette)\n",
      "/tmp/ipykernel_20/3146360470.py:6: UserWarning: The palette list has more values (10) than needed (3), which may not be intended.\n",
      "  sns.scatterplot(data=all_data, x='Age', y='Fare', hue='Embarked', ax=axs[2], palette=palette)\n"
     ]
    },
    {
     "data": {
      "text/plain": [
       "<AxesSubplot: xlabel='Age', ylabel='Fare'>"
      ]
     },
     "execution_count": 4,
     "metadata": {},
     "output_type": "execute_result"
    },
    {
     "data": {
      "image/png": "[encoded data removed]",
      "text/plain": [
       "<Figure size 1500x500 with 3 Axes>"
      ]
     },
     "metadata": {},
     "output_type": "display_data"
    }
   ],
   "source": [
    "fig, axs = plt.subplots(nrows=1, ncols=3, figsize=(15, 5))\n",
    "\n",
    "palette = sns.color_palette()\n",
    "sns.scatterplot(data=all_data, x='Age', y='Fare', ax=axs[0])\n",
    "sns.scatterplot(data=all_data, x='Age', y='Fare', hue='Pclass', ax=axs[1], palette=palette)\n",
    "sns.scatterplot(data=all_data, x='Age', y='Fare', hue='Embarked', ax=axs[2], palette=palette)\n"
   ]
  },
  {
   "cell_type": "code",
   "execution_count": 5,
   "id": "3aa58ab6",
   "metadata": {
    "execution": {
     "iopub.execute_input": "2023-06-19T03:03:32.160061Z",
     "iopub.status.busy": "2023-06-19T03:03:32.159697Z",
     "iopub.status.idle": "2023-06-19T03:03:32.628740Z",
     "shell.execute_reply": "2023-06-19T03:03:32.627083Z"
    },
    "papermill": {
     "duration": 0.486186,
     "end_time": "2023-06-19T03:03:32.632544",
     "exception": false,
     "start_time": "2023-06-19T03:03:32.146358",
     "status": "completed"
    },
    "tags": []
   },
   "outputs": [
    {
     "data": {
      "text/plain": [
       "<AxesSubplot: xlabel='Age', ylabel='Fare'>"
      ]
     },
     "execution_count": 5,
     "metadata": {},
     "output_type": "execute_result"
    },
    {
     "data": {
      "image/png": "[encoded data removed]",
      "text/plain": [
       "<Figure size 1500x500 with 2 Axes>"
      ]
     },
     "metadata": {},
     "output_type": "display_data"
    }
   ],
   "source": [
    "fig, axs = plt.subplots(nrows=1, ncols=2, figsize=(15, 5))\n",
    "sns.scatterplot(data=train, x='Age', y='Fare', hue='Survived', ax=axs[0])\n",
    "sns.scatterplot(data=test, x='Age', y='Fare', ax=axs[1])"
   ]
  },
  {
   "cell_type": "code",
   "execution_count": 6,
   "id": "b0f24888",
   "metadata": {
    "execution": {
     "iopub.execute_input": "2023-06-19T03:03:32.663299Z",
     "iopub.status.busy": "2023-06-19T03:03:32.662920Z",
     "iopub.status.idle": "2023-06-19T03:03:32.672663Z",
     "shell.execute_reply": "2023-06-19T03:03:32.671927Z"
    },
    "papermill": {
     "duration": 0.026994,
     "end_time": "2023-06-19T03:03:32.674391",
     "exception": false,
     "start_time": "2023-06-19T03:03:32.647397",
     "status": "completed"
    },
    "tags": []
   },
   "outputs": [
    {
     "data": {
      "text/plain": [
       "Age          263\n",
       "Fare           1\n",
       "Cabin       1014\n",
       "Embarked       2\n",
       "dtype: int64"
      ]
     },
     "execution_count": 6,
     "metadata": {},
     "output_type": "execute_result"
    }
   ],
   "source": [
    "df = all_data.isnull().sum()\n",
    "df[df > 0]"
   ]
  },
  {
   "cell_type": "markdown",
   "id": "ae3df52e",
   "metadata": {
    "papermill": {
     "duration": 0.013278,
     "end_time": "2023-06-19T03:03:32.701931",
     "exception": false,
     "start_time": "2023-06-19T03:03:32.688653",
     "status": "completed"
    },
    "tags": []
   },
   "source": [
    "### Pcalss"
   ]
  },
  {
   "cell_type": "code",
   "execution_count": 7,
   "id": "4de9a721",
   "metadata": {
    "execution": {
     "iopub.execute_input": "2023-06-19T03:03:32.732438Z",
     "iopub.status.busy": "2023-06-19T03:03:32.731439Z",
     "iopub.status.idle": "2023-06-19T03:03:33.083324Z",
     "shell.execute_reply": "2023-06-19T03:03:33.082139Z"
    },
    "papermill": {
     "duration": 0.3696,
     "end_time": "2023-06-19T03:03:33.085608",
     "exception": false,
     "start_time": "2023-06-19T03:03:32.716008",
     "status": "completed"
    },
    "tags": []
   },
   "outputs": [
    {
     "data": {
      "text/html": [
       "<style type=\"text/css\">\n",
       "#T_7ed61_row0_col0, #T_7ed61_row1_col1, #T_7ed61_row2_col1 {\n",
       "  background-color: #f7fbff;\n",
       "  color: #000000;\n",
       "}\n",
       "#T_7ed61_row0_col1, #T_7ed61_row1_col0, #T_7ed61_row2_col0 {\n",
       "  background-color: #08306b;\n",
       "  color: #f1f1f1;\n",
       "}\n",
       "</style>\n",
       "<table id=\"T_7ed61\">\n",
       "  <thead>\n",
       "    <tr>\n",
       "      <th class=\"index_name level0\" >Survived</th>\n",
       "      <th id=\"T_7ed61_level0_col0\" class=\"col_heading level0 col0\" >0</th>\n",
       "      <th id=\"T_7ed61_level0_col1\" class=\"col_heading level0 col1\" >1</th>\n",
       "    </tr>\n",
       "    <tr>\n",
       "      <th class=\"index_name level0\" >Pclass</th>\n",
       "      <th class=\"blank col0\" >&nbsp;</th>\n",
       "      <th class=\"blank col1\" >&nbsp;</th>\n",
       "    </tr>\n",
       "  </thead>\n",
       "  <tbody>\n",
       "    <tr>\n",
       "      <th id=\"T_7ed61_level0_row0\" class=\"row_heading level0 row0\" >1</th>\n",
       "      <td id=\"T_7ed61_row0_col0\" class=\"data row0 col0\" >80</td>\n",
       "      <td id=\"T_7ed61_row0_col1\" class=\"data row0 col1\" >136</td>\n",
       "    </tr>\n",
       "    <tr>\n",
       "      <th id=\"T_7ed61_level0_row1\" class=\"row_heading level0 row1\" >2</th>\n",
       "      <td id=\"T_7ed61_row1_col0\" class=\"data row1 col0\" >97</td>\n",
       "      <td id=\"T_7ed61_row1_col1\" class=\"data row1 col1\" >87</td>\n",
       "    </tr>\n",
       "    <tr>\n",
       "      <th id=\"T_7ed61_level0_row2\" class=\"row_heading level0 row2\" >3</th>\n",
       "      <td id=\"T_7ed61_row2_col0\" class=\"data row2 col0\" >372</td>\n",
       "      <td id=\"T_7ed61_row2_col1\" class=\"data row2 col1\" >119</td>\n",
       "    </tr>\n",
       "  </tbody>\n",
       "</table>\n"
      ],
      "text/plain": [
       "<pandas.io.formats.style.Styler at 0x78663040ed70>"
      ]
     },
     "metadata": {},
     "output_type": "display_data"
    },
    {
     "data": {
      "image/png": "[encoded data removed]",
      "text/plain": [
       "<Figure size 400x400 with 1 Axes>"
      ]
     },
     "metadata": {},
     "output_type": "display_data"
    }
   ],
   "source": [
    "df = pd.crosstab(train.Pclass, train.Survived).style.background_gradient(cmap='Blues', axis=1)\n",
    "display(df)\n",
    "\n",
    "plt.figure(figsize=(4,4))\n",
    "sns.barplot(data=train, x='Pclass', y='Survived')\n",
    "plt.show()"
   ]
  },
  {
   "cell_type": "markdown",
   "id": "7fd0b025",
   "metadata": {
    "papermill": {
     "duration": 0.018818,
     "end_time": "2023-06-19T03:03:33.122751",
     "exception": false,
     "start_time": "2023-06-19T03:03:33.103933",
     "status": "completed"
    },
    "tags": []
   },
   "source": [
    "### Sex"
   ]
  },
  {
   "cell_type": "code",
   "execution_count": 8,
   "id": "046c6742",
   "metadata": {
    "execution": {
     "iopub.execute_input": "2023-06-19T03:03:33.159857Z",
     "iopub.status.busy": "2023-06-19T03:03:33.159461Z",
     "iopub.status.idle": "2023-06-19T03:03:33.360764Z",
     "shell.execute_reply": "2023-06-19T03:03:33.359959Z"
    },
    "papermill": {
     "duration": 0.22201,
     "end_time": "2023-06-19T03:03:33.362964",
     "exception": false,
     "start_time": "2023-06-19T03:03:33.140954",
     "status": "completed"
    },
    "tags": []
   },
   "outputs": [
    {
     "data": {
      "text/html": [
       "<style type=\"text/css\">\n",
       "#T_96a8e_row0_col0, #T_96a8e_row1_col1 {\n",
       "  background-color: #f7fbff;\n",
       "  color: #000000;\n",
       "}\n",
       "#T_96a8e_row0_col1, #T_96a8e_row1_col0 {\n",
       "  background-color: #08306b;\n",
       "  color: #f1f1f1;\n",
       "}\n",
       "</style>\n",
       "<table id=\"T_96a8e\">\n",
       "  <thead>\n",
       "    <tr>\n",
       "      <th class=\"index_name level0\" >Survived</th>\n",
       "      <th id=\"T_96a8e_level0_col0\" class=\"col_heading level0 col0\" >0</th>\n",
       "      <th id=\"T_96a8e_level0_col1\" class=\"col_heading level0 col1\" >1</th>\n",
       "    </tr>\n",
       "    <tr>\n",
       "      <th class=\"index_name level0\" >Sex</th>\n",
       "      <th class=\"blank col0\" >&nbsp;</th>\n",
       "      <th class=\"blank col1\" >&nbsp;</th>\n",
       "    </tr>\n",
       "  </thead>\n",
       "  <tbody>\n",
       "    <tr>\n",
       "      <th id=\"T_96a8e_level0_row0\" class=\"row_heading level0 row0\" >female</th>\n",
       "      <td id=\"T_96a8e_row0_col0\" class=\"data row0 col0\" >81</td>\n",
       "      <td id=\"T_96a8e_row0_col1\" class=\"data row0 col1\" >233</td>\n",
       "    </tr>\n",
       "    <tr>\n",
       "      <th id=\"T_96a8e_level0_row1\" class=\"row_heading level0 row1\" >male</th>\n",
       "      <td id=\"T_96a8e_row1_col0\" class=\"data row1 col0\" >468</td>\n",
       "      <td id=\"T_96a8e_row1_col1\" class=\"data row1 col1\" >109</td>\n",
       "    </tr>\n",
       "  </tbody>\n",
       "</table>\n"
      ],
      "text/plain": [
       "<pandas.io.formats.style.Styler at 0x78663043f2e0>"
      ]
     },
     "metadata": {},
     "output_type": "display_data"
    },
    {
     "data": {
      "image/png": "[encoded data removed]",
      "text/plain": [
       "<Figure size 400x400 with 1 Axes>"
      ]
     },
     "metadata": {},
     "output_type": "display_data"
    }
   ],
   "source": [
    "df = pd.crosstab(train.Sex, train.Survived).style.background_gradient(cmap='Blues', axis=1)\n",
    "display(df)\n",
    "\n",
    "plt.figure(figsize=(4,4))\n",
    "sns.barplot(data=train, x='Sex', y='Survived')\n",
    "plt.show()"
   ]
  },
  {
   "cell_type": "markdown",
   "id": "2eaf5045",
   "metadata": {
    "execution": {
     "iopub.execute_input": "2023-06-05T07:19:05.093847Z",
     "iopub.status.busy": "2023-06-05T07:19:05.093433Z",
     "iopub.status.idle": "2023-06-05T07:19:05.098777Z",
     "shell.execute_reply": "2023-06-05T07:19:05.097525Z",
     "shell.execute_reply.started": "2023-06-05T07:19:05.093815Z"
    },
    "papermill": {
     "duration": 0.018496,
     "end_time": "2023-06-19T03:03:33.401869",
     "exception": false,
     "start_time": "2023-06-19T03:03:33.383373",
     "status": "completed"
    },
    "tags": []
   },
   "source": [
    "### Embarked"
   ]
  },
  {
   "cell_type": "code",
   "execution_count": 9,
   "id": "1e931ce5",
   "metadata": {
    "execution": {
     "iopub.execute_input": "2023-06-19T03:03:33.434147Z",
     "iopub.status.busy": "2023-06-19T03:03:33.433829Z",
     "iopub.status.idle": "2023-06-19T03:03:33.653212Z",
     "shell.execute_reply": "2023-06-19T03:03:33.652377Z"
    },
    "papermill": {
     "duration": 0.23842,
     "end_time": "2023-06-19T03:03:33.654989",
     "exception": false,
     "start_time": "2023-06-19T03:03:33.416569",
     "status": "completed"
    },
    "tags": []
   },
   "outputs": [
    {
     "data": {
      "text/html": [
       "<style type=\"text/css\">\n",
       "#T_d6010_row0_col0, #T_d6010_row1_col1, #T_d6010_row2_col1 {\n",
       "  background-color: #f7fbff;\n",
       "  color: #000000;\n",
       "}\n",
       "#T_d6010_row0_col1, #T_d6010_row1_col0, #T_d6010_row2_col0 {\n",
       "  background-color: #08306b;\n",
       "  color: #f1f1f1;\n",
       "}\n",
       "</style>\n",
       "<table id=\"T_d6010\">\n",
       "  <thead>\n",
       "    <tr>\n",
       "      <th class=\"index_name level0\" >Survived</th>\n",
       "      <th id=\"T_d6010_level0_col0\" class=\"col_heading level0 col0\" >0</th>\n",
       "      <th id=\"T_d6010_level0_col1\" class=\"col_heading level0 col1\" >1</th>\n",
       "    </tr>\n",
       "    <tr>\n",
       "      <th class=\"index_name level0\" >Embarked</th>\n",
       "      <th class=\"blank col0\" >&nbsp;</th>\n",
       "      <th class=\"blank col1\" >&nbsp;</th>\n",
       "    </tr>\n",
       "  </thead>\n",
       "  <tbody>\n",
       "    <tr>\n",
       "      <th id=\"T_d6010_level0_row0\" class=\"row_heading level0 row0\" >C</th>\n",
       "      <td id=\"T_d6010_row0_col0\" class=\"data row0 col0\" >75</td>\n",
       "      <td id=\"T_d6010_row0_col1\" class=\"data row0 col1\" >93</td>\n",
       "    </tr>\n",
       "    <tr>\n",
       "      <th id=\"T_d6010_level0_row1\" class=\"row_heading level0 row1\" >Q</th>\n",
       "      <td id=\"T_d6010_row1_col0\" class=\"data row1 col0\" >47</td>\n",
       "      <td id=\"T_d6010_row1_col1\" class=\"data row1 col1\" >30</td>\n",
       "    </tr>\n",
       "    <tr>\n",
       "      <th id=\"T_d6010_level0_row2\" class=\"row_heading level0 row2\" >S</th>\n",
       "      <td id=\"T_d6010_row2_col0\" class=\"data row2 col0\" >427</td>\n",
       "      <td id=\"T_d6010_row2_col1\" class=\"data row2 col1\" >217</td>\n",
       "    </tr>\n",
       "  </tbody>\n",
       "</table>\n"
      ],
      "text/plain": [
       "<pandas.io.formats.style.Styler at 0x786632a68d30>"
      ]
     },
     "metadata": {},
     "output_type": "display_data"
    },
    {
     "data": {
      "image/png": "[encoded data removed]",
      "text/plain": [
       "<Figure size 400x400 with 1 Axes>"
      ]
     },
     "metadata": {},
     "output_type": "display_data"
    }
   ],
   "source": [
    "df = pd.crosstab(train.Embarked, train.Survived).style.background_gradient(cmap='Blues', axis=1)\n",
    "display(df)\n",
    "\n",
    "plt.figure(figsize=(4,4))\n",
    "sns.barplot(data=train, x='Embarked', y='Survived')\n",
    "plt.show()"
   ]
  },
  {
   "cell_type": "code",
   "execution_count": 10,
   "id": "7e421e64",
   "metadata": {
    "execution": {
     "iopub.execute_input": "2023-06-19T03:03:33.693430Z",
     "iopub.status.busy": "2023-06-19T03:03:33.693086Z",
     "iopub.status.idle": "2023-06-19T03:03:33.720231Z",
     "shell.execute_reply": "2023-06-19T03:03:33.719002Z"
    },
    "papermill": {
     "duration": 0.048426,
     "end_time": "2023-06-19T03:03:33.722357",
     "exception": false,
     "start_time": "2023-06-19T03:03:33.673931",
     "status": "completed"
    },
    "tags": []
   },
   "outputs": [
    {
     "data": {
      "text/html": [
       "<div>\n",
       "<style scoped>\n",
       "    .dataframe tbody tr th:only-of-type {\n",
       "        vertical-align: middle;\n",
       "    }\n",
       "\n",
       "    .dataframe tbody tr th {\n",
       "        vertical-align: top;\n",
       "    }\n",
       "\n",
       "    .dataframe thead th {\n",
       "        text-align: right;\n",
       "    }\n",
       "</style>\n",
       "<table border=\"1\" class=\"dataframe\">\n",
       "  <thead>\n",
       "    <tr style=\"text-align: right;\">\n",
       "      <th></th>\n",
       "      <th>PassengerId</th>\n",
       "      <th>Pclass</th>\n",
       "      <th>Name</th>\n",
       "      <th>Sex</th>\n",
       "      <th>Age</th>\n",
       "      <th>SibSp</th>\n",
       "      <th>Parch</th>\n",
       "      <th>Ticket</th>\n",
       "      <th>Fare</th>\n",
       "      <th>Cabin</th>\n",
       "      <th>Embarked</th>\n",
       "    </tr>\n",
       "  </thead>\n",
       "  <tbody>\n",
       "    <tr>\n",
       "      <th>61</th>\n",
       "      <td>62</td>\n",
       "      <td>1</td>\n",
       "      <td>Icard, Miss. Amelie</td>\n",
       "      <td>female</td>\n",
       "      <td>38.0</td>\n",
       "      <td>0</td>\n",
       "      <td>0</td>\n",
       "      <td>113572</td>\n",
       "      <td>80.0</td>\n",
       "      <td>B28</td>\n",
       "      <td>NaN</td>\n",
       "    </tr>\n",
       "    <tr>\n",
       "      <th>829</th>\n",
       "      <td>830</td>\n",
       "      <td>1</td>\n",
       "      <td>Stone, Mrs. George Nelson (Martha Evelyn)</td>\n",
       "      <td>female</td>\n",
       "      <td>62.0</td>\n",
       "      <td>0</td>\n",
       "      <td>0</td>\n",
       "      <td>113572</td>\n",
       "      <td>80.0</td>\n",
       "      <td>B28</td>\n",
       "      <td>NaN</td>\n",
       "    </tr>\n",
       "  </tbody>\n",
       "</table>\n",
       "</div>"
      ],
      "text/plain": [
       "     PassengerId  Pclass                                       Name     Sex  \\\n",
       "61            62       1                        Icard, Miss. Amelie  female   \n",
       "829          830       1  Stone, Mrs. George Nelson (Martha Evelyn)  female   \n",
       "\n",
       "      Age  SibSp  Parch  Ticket  Fare Cabin Embarked  \n",
       "61   38.0      0      0  113572  80.0   B28      NaN  \n",
       "829  62.0      0      0  113572  80.0   B28      NaN  "
      ]
     },
     "execution_count": 10,
     "metadata": {},
     "output_type": "execute_result"
    }
   ],
   "source": [
    "all_data[all_data['Embarked'].isnull()]"
   ]
  },
  {
   "cell_type": "code",
   "execution_count": 11,
   "id": "50e575f3",
   "metadata": {
    "execution": {
     "iopub.execute_input": "2023-06-19T03:03:33.754606Z",
     "iopub.status.busy": "2023-06-19T03:03:33.754225Z",
     "iopub.status.idle": "2023-06-19T03:03:33.759463Z",
     "shell.execute_reply": "2023-06-19T03:03:33.758533Z"
    },
    "papermill": {
     "duration": 0.023748,
     "end_time": "2023-06-19T03:03:33.761297",
     "exception": false,
     "start_time": "2023-06-19T03:03:33.737549",
     "status": "completed"
    },
    "tags": []
   },
   "outputs": [],
   "source": [
    "all_data.loc[all_data['Embarked'].isnull(), 'Embarked'] = 'S'"
   ]
  },
  {
   "cell_type": "markdown",
   "id": "8fc8fee8",
   "metadata": {
    "papermill": {
     "duration": 0.014236,
     "end_time": "2023-06-19T03:03:33.789728",
     "exception": false,
     "start_time": "2023-06-19T03:03:33.775492",
     "status": "completed"
    },
    "tags": []
   },
   "source": [
    "### Fare\n",
    "There is one entry with a value of 'NaＮ'."
   ]
  },
  {
   "cell_type": "code",
   "execution_count": 12,
   "id": "6975ff2c",
   "metadata": {
    "execution": {
     "iopub.execute_input": "2023-06-19T03:03:33.820347Z",
     "iopub.status.busy": "2023-06-19T03:03:33.820029Z",
     "iopub.status.idle": "2023-06-19T03:03:33.833226Z",
     "shell.execute_reply": "2023-06-19T03:03:33.832385Z"
    },
    "papermill": {
     "duration": 0.030952,
     "end_time": "2023-06-19T03:03:33.835143",
     "exception": false,
     "start_time": "2023-06-19T03:03:33.804191",
     "status": "completed"
    },
    "tags": []
   },
   "outputs": [
    {
     "data": {
      "text/html": [
       "<div>\n",
       "<style scoped>\n",
       "    .dataframe tbody tr th:only-of-type {\n",
       "        vertical-align: middle;\n",
       "    }\n",
       "\n",
       "    .dataframe tbody tr th {\n",
       "        vertical-align: top;\n",
       "    }\n",
       "\n",
       "    .dataframe thead th {\n",
       "        text-align: right;\n",
       "    }\n",
       "</style>\n",
       "<table border=\"1\" class=\"dataframe\">\n",
       "  <thead>\n",
       "    <tr style=\"text-align: right;\">\n",
       "      <th></th>\n",
       "      <th>PassengerId</th>\n",
       "      <th>Pclass</th>\n",
       "      <th>Name</th>\n",
       "      <th>Sex</th>\n",
       "      <th>Age</th>\n",
       "      <th>SibSp</th>\n",
       "      <th>Parch</th>\n",
       "      <th>Ticket</th>\n",
       "      <th>Fare</th>\n",
       "      <th>Cabin</th>\n",
       "      <th>Embarked</th>\n",
       "    </tr>\n",
       "  </thead>\n",
       "  <tbody>\n",
       "    <tr>\n",
       "      <th>1043</th>\n",
       "      <td>1044</td>\n",
       "      <td>3</td>\n",
       "      <td>Storey, Mr. Thomas</td>\n",
       "      <td>male</td>\n",
       "      <td>60.5</td>\n",
       "      <td>0</td>\n",
       "      <td>0</td>\n",
       "      <td>3701</td>\n",
       "      <td>NaN</td>\n",
       "      <td>NaN</td>\n",
       "      <td>S</td>\n",
       "    </tr>\n",
       "  </tbody>\n",
       "</table>\n",
       "</div>"
      ],
      "text/plain": [
       "      PassengerId  Pclass                Name   Sex   Age  SibSp  Parch  \\\n",
       "1043         1044       3  Storey, Mr. Thomas  male  60.5      0      0   \n",
       "\n",
       "     Ticket  Fare Cabin Embarked  \n",
       "1043   3701   NaN   NaN        S  "
      ]
     },
     "execution_count": 12,
     "metadata": {},
     "output_type": "execute_result"
    }
   ],
   "source": [
    "all_data[all_data['Fare'].isnull()]"
   ]
  },
  {
   "cell_type": "markdown",
   "id": "56439f6c",
   "metadata": {
    "papermill": {
     "duration": 0.014117,
     "end_time": "2023-06-19T03:03:33.863584",
     "exception": false,
     "start_time": "2023-06-19T03:03:33.849467",
     "status": "completed"
    },
    "tags": []
   },
   "source": [
    "The **correlation** between **Fare** and **Pclass** is the highest."
   ]
  },
  {
   "cell_type": "code",
   "execution_count": 13,
   "id": "256398aa",
   "metadata": {
    "execution": {
     "iopub.execute_input": "2023-06-19T03:03:33.894267Z",
     "iopub.status.busy": "2023-06-19T03:03:33.893699Z",
     "iopub.status.idle": "2023-06-19T03:03:33.909080Z",
     "shell.execute_reply": "2023-06-19T03:03:33.908138Z"
    },
    "papermill": {
     "duration": 0.033688,
     "end_time": "2023-06-19T03:03:33.911389",
     "exception": false,
     "start_time": "2023-06-19T03:03:33.877701",
     "status": "completed"
    },
    "tags": []
   },
   "outputs": [
    {
     "data": {
      "text/html": [
       "<style type=\"text/css\">\n",
       "#T_91160_row0_col0 {\n",
       "  background-color: #67000d;\n",
       "  color: #f1f1f1;\n",
       "}\n",
       "#T_91160_row1_col0 {\n",
       "  background-color: #f7593f;\n",
       "  color: #f1f1f1;\n",
       "}\n",
       "#T_91160_row2_col0 {\n",
       "  background-color: #fdcbb6;\n",
       "  color: #000000;\n",
       "}\n",
       "#T_91160_row3_col0 {\n",
       "  background-color: #fed9c9;\n",
       "  color: #000000;\n",
       "}\n",
       "#T_91160_row4_col0 {\n",
       "  background-color: #fedecf;\n",
       "  color: #000000;\n",
       "}\n",
       "#T_91160_row5_col0 {\n",
       "  background-color: #fff5f0;\n",
       "  color: #000000;\n",
       "}\n",
       "</style>\n",
       "<table id=\"T_91160\">\n",
       "  <thead>\n",
       "    <tr>\n",
       "      <th class=\"blank level0\" >&nbsp;</th>\n",
       "      <th id=\"T_91160_level0_col0\" class=\"col_heading level0 col0\" >Fare</th>\n",
       "    </tr>\n",
       "  </thead>\n",
       "  <tbody>\n",
       "    <tr>\n",
       "      <th id=\"T_91160_level0_row0\" class=\"row_heading level0 row0\" >Fare</th>\n",
       "      <td id=\"T_91160_row0_col0\" class=\"data row0 col0\" >1.000000</td>\n",
       "    </tr>\n",
       "    <tr>\n",
       "      <th id=\"T_91160_level0_row1\" class=\"row_heading level0 row1\" >Pclass</th>\n",
       "      <td id=\"T_91160_row1_col0\" class=\"data row1 col0\" >0.558629</td>\n",
       "    </tr>\n",
       "    <tr>\n",
       "      <th id=\"T_91160_level0_row2\" class=\"row_heading level0 row2\" >Parch</th>\n",
       "      <td id=\"T_91160_row2_col0\" class=\"data row2 col0\" >0.221539</td>\n",
       "    </tr>\n",
       "    <tr>\n",
       "      <th id=\"T_91160_level0_row3\" class=\"row_heading level0 row3\" >Age</th>\n",
       "      <td id=\"T_91160_row3_col0\" class=\"data row3 col0\" >0.178740</td>\n",
       "    </tr>\n",
       "    <tr>\n",
       "      <th id=\"T_91160_level0_row4\" class=\"row_heading level0 row4\" >SibSp</th>\n",
       "      <td id=\"T_91160_row4_col0\" class=\"data row4 col0\" >0.160238</td>\n",
       "    </tr>\n",
       "    <tr>\n",
       "      <th id=\"T_91160_level0_row5\" class=\"row_heading level0 row5\" >PassengerId</th>\n",
       "      <td id=\"T_91160_row5_col0\" class=\"data row5 col0\" >0.031428</td>\n",
       "    </tr>\n",
       "  </tbody>\n",
       "</table>\n"
      ],
      "text/plain": [
       "<pandas.io.formats.style.Styler at 0x78663040ee60>"
      ]
     },
     "execution_count": 13,
     "metadata": {},
     "output_type": "execute_result"
    }
   ],
   "source": [
    "all_data.corr(numeric_only=True).abs()['Fare'].sort_values(ascending=False).to_frame().style.background_gradient(cmap='Reds')"
   ]
  },
  {
   "cell_type": "markdown",
   "id": "1e8ecdc6",
   "metadata": {
    "papermill": {
     "duration": 0.015521,
     "end_time": "2023-06-19T03:03:33.941943",
     "exception": false,
     "start_time": "2023-06-19T03:03:33.926422",
     "status": "completed"
    },
    "tags": []
   },
   "source": [
    "Since Fare is **skewed** within Pclass 3, the **mode** is used to fill in the missing values."
   ]
  },
  {
   "cell_type": "code",
   "execution_count": 14,
   "id": "ac1860a2",
   "metadata": {
    "execution": {
     "iopub.execute_input": "2023-06-19T03:03:33.975010Z",
     "iopub.status.busy": "2023-06-19T03:03:33.973710Z",
     "iopub.status.idle": "2023-06-19T03:03:34.163123Z",
     "shell.execute_reply": "2023-06-19T03:03:34.161762Z"
    },
    "papermill": {
     "duration": 0.208163,
     "end_time": "2023-06-19T03:03:34.165524",
     "exception": false,
     "start_time": "2023-06-19T03:03:33.957361",
     "status": "completed"
    },
    "tags": []
   },
   "outputs": [
    {
     "data": {
      "image/png": "[encoded data removed]",
      "text/plain": [
       "<Figure size 640x480 with 1 Axes>"
      ]
     },
     "metadata": {},
     "output_type": "display_data"
    }
   ],
   "source": [
    "class_3_fare = all_data[(all_data['Pclass'] == 3)].astype({'Fare': float})\n",
    "sns.kdeplot(data=class_3_fare, x='Fare')\n",
    "\n",
    "all_data.Fare.fillna(class_3_fare['Fare'].mode()[0], inplace=True)"
   ]
  },
  {
   "cell_type": "code",
   "execution_count": 15,
   "id": "9a432ca8",
   "metadata": {
    "execution": {
     "iopub.execute_input": "2023-06-19T03:03:34.197269Z",
     "iopub.status.busy": "2023-06-19T03:03:34.196904Z",
     "iopub.status.idle": "2023-06-19T03:03:34.436239Z",
     "shell.execute_reply": "2023-06-19T03:03:34.435035Z"
    },
    "papermill": {
     "duration": 0.258934,
     "end_time": "2023-06-19T03:03:34.439233",
     "exception": false,
     "start_time": "2023-06-19T03:03:34.180299",
     "status": "completed"
    },
    "tags": []
   },
   "outputs": [
    {
     "data": {
      "text/plain": [
       "<AxesSubplot: xlabel='Fare', ylabel='Count'>"
      ]
     },
     "execution_count": 15,
     "metadata": {},
     "output_type": "execute_result"
    },
    {
     "data": {
      "image/png": "[encoded data removed]",
      "text/plain": [
       "<Figure size 640x480 with 1 Axes>"
      ]
     },
     "metadata": {},
     "output_type": "display_data"
    }
   ],
   "source": [
    "sns.histplot(data=train, x='Fare', hue='Survived', bins=10)"
   ]
  },
  {
   "cell_type": "markdown",
   "id": "8e68c838",
   "metadata": {
    "papermill": {
     "duration": 0.015314,
     "end_time": "2023-06-19T03:03:34.477736",
     "exception": false,
     "start_time": "2023-06-19T03:03:34.462422",
     "status": "completed"
    },
    "tags": []
   },
   "source": [
    "### Name\n",
    "擷取 Title 欄位，通常用於表示人的稱謂或頭銜\n",
    "\n",
    "- Mr.：先生，用於成年男性。\n",
    "- Miss.：小姐，用於未婚女性。\n",
    "- Mrs.：太太，用於已婚或成年女性。\n",
    "- Master.：少爺，用於未成年男性。\n",
    "- Rev.：牧師，用於聖職人員。\n",
    "- Dr.：博士，用於具有博士學位的人。\n",
    "- Col.：上校，用於軍階。\n",
    "- Mlle.：小姐，用於未婚女性（法語中的稱謂）。\n",
    "- Major.：少校，用於軍階。\n",
    "- Ms.：女士，用於成年女性，不指明其婚姻狀況。\n",
    "- Lady.：貴婦人，通常用於貴族或高社會地位的女性。\n",
    "- Sir.：爵士，通常用於騎士或被授予榮譽稱號的男性。\n",
    "- Mme.：夫人，用於已婚或成年女性（法語中的稱謂）。\n",
    "- Don.：先生，用於具有高社會地位或貴族稱號的男性（西班牙語中的稱謂）。\n",
    "- Capt.：船長，用於船隻的船長或軍階。\n",
    "- the：用於具有特殊地位或稱號的人，如\"The Queen\"。\n",
    "- Jonkheer.：男爵，用於荷蘭貴族稱號。\n",
    "- Dona.：女士，用於具有高社會地位或貴族稱號的女性（西班牙語中的稱謂）。"
   ]
  },
  {
   "cell_type": "code",
   "execution_count": 16,
   "id": "4de887ad",
   "metadata": {
    "execution": {
     "iopub.execute_input": "2023-06-19T03:03:34.510706Z",
     "iopub.status.busy": "2023-06-19T03:03:34.510363Z",
     "iopub.status.idle": "2023-06-19T03:03:34.521743Z",
     "shell.execute_reply": "2023-06-19T03:03:34.520978Z"
    },
    "papermill": {
     "duration": 0.03046,
     "end_time": "2023-06-19T03:03:34.523815",
     "exception": false,
     "start_time": "2023-06-19T03:03:34.493355",
     "status": "completed"
    },
    "tags": []
   },
   "outputs": [],
   "source": [
    "all_data['Title'] = all_data.Name.str.split(',', n=2, expand=True)[1].str.split(n=1, expand=True)[0]"
   ]
  },
  {
   "cell_type": "markdown",
   "id": "743098ec",
   "metadata": {
    "papermill": {
     "duration": 0.015276,
     "end_time": "2023-06-19T03:03:34.555027",
     "exception": false,
     "start_time": "2023-06-19T03:03:34.539751",
     "status": "completed"
    },
    "tags": []
   },
   "source": [
    "### Age \n"
   ]
  },
  {
   "cell_type": "code",
   "execution_count": 17,
   "id": "97da8a2e",
   "metadata": {
    "execution": {
     "iopub.execute_input": "2023-06-19T03:03:34.588425Z",
     "iopub.status.busy": "2023-06-19T03:03:34.588091Z",
     "iopub.status.idle": "2023-06-19T03:03:34.754164Z",
     "shell.execute_reply": "2023-06-19T03:03:34.753253Z"
    },
    "papermill": {
     "duration": 0.185315,
     "end_time": "2023-06-19T03:03:34.756069",
     "exception": false,
     "start_time": "2023-06-19T03:03:34.570754",
     "status": "completed"
    },
    "tags": []
   },
   "outputs": [
    {
     "data": {
      "text/plain": [
       "<AxesSubplot: xlabel='Age', ylabel='Density'>"
      ]
     },
     "execution_count": 17,
     "metadata": {},
     "output_type": "execute_result"
    },
    {
     "data": {
      "image/png": "[encoded data removed]",
      "text/plain": [
       "<Figure size 640x480 with 1 Axes>"
      ]
     },
     "metadata": {},
     "output_type": "display_data"
    }
   ],
   "source": [
    "sns.kdeplot(all_data[all_data.Age.notna()], x='Age')"
   ]
  },
  {
   "cell_type": "markdown",
   "id": "c88ee0f8",
   "metadata": {
    "papermill": {
     "duration": 0.015699,
     "end_time": "2023-06-19T03:03:34.788349",
     "exception": false,
     "start_time": "2023-06-19T03:03:34.772650",
     "status": "completed"
    },
    "tags": []
   },
   "source": [
    "利用不同 title 的 mean 來填補 NaN"
   ]
  },
  {
   "cell_type": "code",
   "execution_count": 18,
   "id": "48bfcf09",
   "metadata": {
    "execution": {
     "iopub.execute_input": "2023-06-19T03:03:34.821886Z",
     "iopub.status.busy": "2023-06-19T03:03:34.821552Z",
     "iopub.status.idle": "2023-06-19T03:03:34.843089Z",
     "shell.execute_reply": "2023-06-19T03:03:34.842209Z"
    },
    "papermill": {
     "duration": 0.040375,
     "end_time": "2023-06-19T03:03:34.844954",
     "exception": false,
     "start_time": "2023-06-19T03:03:34.804579",
     "status": "completed"
    },
    "tags": []
   },
   "outputs": [
    {
     "data": {
      "text/html": [
       "<div>\n",
       "<style scoped>\n",
       "    .dataframe tbody tr th:only-of-type {\n",
       "        vertical-align: middle;\n",
       "    }\n",
       "\n",
       "    .dataframe tbody tr th {\n",
       "        vertical-align: top;\n",
       "    }\n",
       "\n",
       "    .dataframe thead th {\n",
       "        text-align: right;\n",
       "    }\n",
       "</style>\n",
       "<table border=\"1\" class=\"dataframe\">\n",
       "  <thead>\n",
       "    <tr style=\"text-align: right;\">\n",
       "      <th>Title</th>\n",
       "      <th>Capt.</th>\n",
       "      <th>Col.</th>\n",
       "      <th>Don.</th>\n",
       "      <th>Dona.</th>\n",
       "      <th>Dr.</th>\n",
       "      <th>Jonkheer.</th>\n",
       "      <th>Lady.</th>\n",
       "      <th>Major.</th>\n",
       "      <th>Master.</th>\n",
       "      <th>Miss.</th>\n",
       "      <th>Mlle.</th>\n",
       "      <th>Mme.</th>\n",
       "      <th>Mr.</th>\n",
       "      <th>Mrs.</th>\n",
       "      <th>Ms.</th>\n",
       "      <th>Rev.</th>\n",
       "      <th>Sir.</th>\n",
       "      <th>the</th>\n",
       "    </tr>\n",
       "  </thead>\n",
       "  <tbody>\n",
       "    <tr>\n",
       "      <th>Age</th>\n",
       "      <td>70.0</td>\n",
       "      <td>54.0</td>\n",
       "      <td>40.0</td>\n",
       "      <td>39.0</td>\n",
       "      <td>43.6</td>\n",
       "      <td>38.0</td>\n",
       "      <td>48.0</td>\n",
       "      <td>48.5</td>\n",
       "      <td>5.5</td>\n",
       "      <td>21.8</td>\n",
       "      <td>24.0</td>\n",
       "      <td>24.0</td>\n",
       "      <td>32.3</td>\n",
       "      <td>37.0</td>\n",
       "      <td>28.0</td>\n",
       "      <td>41.2</td>\n",
       "      <td>49.0</td>\n",
       "      <td>33.0</td>\n",
       "    </tr>\n",
       "  </tbody>\n",
       "</table>\n",
       "</div>"
      ],
      "text/plain": [
       "Title  Capt.  Col.  Don.  Dona.   Dr.  Jonkheer.  Lady.  Major.  Master.  \\\n",
       "Age     70.0  54.0  40.0   39.0  43.6       38.0   48.0    48.5      5.5   \n",
       "\n",
       "Title  Miss.  Mlle.  Mme.   Mr.  Mrs.   Ms.  Rev.  Sir.   the  \n",
       "Age     21.8   24.0  24.0  32.3  37.0  28.0  41.2  49.0  33.0  "
      ]
     },
     "metadata": {},
     "output_type": "display_data"
    }
   ],
   "source": [
    "title_mean_age = all_data.groupby('Title')['Age'].mean().round(decimals=1)\n",
    "display(title_mean_age.to_frame().T)"
   ]
  },
  {
   "cell_type": "code",
   "execution_count": 19,
   "id": "ad94cad4",
   "metadata": {
    "execution": {
     "iopub.execute_input": "2023-06-19T03:03:34.879489Z",
     "iopub.status.busy": "2023-06-19T03:03:34.878874Z",
     "iopub.status.idle": "2023-06-19T03:03:34.898163Z",
     "shell.execute_reply": "2023-06-19T03:03:34.897015Z"
    },
    "papermill": {
     "duration": 0.039172,
     "end_time": "2023-06-19T03:03:34.900807",
     "exception": false,
     "start_time": "2023-06-19T03:03:34.861635",
     "status": "completed"
    },
    "tags": []
   },
   "outputs": [],
   "source": [
    "titles = all_data.Title.unique()\n",
    "for title in titles:\n",
    "    all_data.loc[(all_data['Title'] == title) & all_data['Age'].isnull(), 'Age'] = title_mean_age[title]"
   ]
  },
  {
   "cell_type": "code",
   "execution_count": 20,
   "id": "6f2fa9a2",
   "metadata": {
    "execution": {
     "iopub.execute_input": "2023-06-19T03:03:34.935537Z",
     "iopub.status.busy": "2023-06-19T03:03:34.935115Z",
     "iopub.status.idle": "2023-06-19T03:03:35.204171Z",
     "shell.execute_reply": "2023-06-19T03:03:35.203026Z"
    },
    "papermill": {
     "duration": 0.289898,
     "end_time": "2023-06-19T03:03:35.207569",
     "exception": false,
     "start_time": "2023-06-19T03:03:34.917671",
     "status": "completed"
    },
    "tags": []
   },
   "outputs": [
    {
     "data": {
      "text/plain": [
       "<AxesSubplot: xlabel='Age', ylabel='Count'>"
      ]
     },
     "execution_count": 20,
     "metadata": {},
     "output_type": "execute_result"
    },
    {
     "data": {
      "image/png": "[encoded data removed]",
      "text/plain": [
       "<Figure size 640x480 with 1 Axes>"
      ]
     },
     "metadata": {},
     "output_type": "display_data"
    }
   ],
   "source": [
    "sns.histplot(data=train, x='Age', hue='Survived', bins=10)"
   ]
  },
  {
   "cell_type": "markdown",
   "id": "4f55183b",
   "metadata": {
    "papermill": {
     "duration": 0.016607,
     "end_time": "2023-06-19T03:03:35.240737",
     "exception": false,
     "start_time": "2023-06-19T03:03:35.224130",
     "status": "completed"
    },
    "tags": []
   },
   "source": [
    "### SibSp"
   ]
  },
  {
   "cell_type": "code",
   "execution_count": 21,
   "id": "5764e083",
   "metadata": {
    "execution": {
     "iopub.execute_input": "2023-06-19T03:03:35.276561Z",
     "iopub.status.busy": "2023-06-19T03:03:35.275632Z",
     "iopub.status.idle": "2023-06-19T03:03:35.776552Z",
     "shell.execute_reply": "2023-06-19T03:03:35.775406Z"
    },
    "papermill": {
     "duration": 0.521398,
     "end_time": "2023-06-19T03:03:35.778837",
     "exception": false,
     "start_time": "2023-06-19T03:03:35.257439",
     "status": "completed"
    },
    "tags": []
   },
   "outputs": [
    {
     "data": {
      "text/html": [
       "<style type=\"text/css\">\n",
       "#T_10edd_row0_col0, #T_10edd_row1_col1, #T_10edd_row2_col0, #T_10edd_row3_col0, #T_10edd_row4_col0, #T_10edd_row5_col0, #T_10edd_row6_col0 {\n",
       "  background-color: #08306b;\n",
       "  color: #f1f1f1;\n",
       "}\n",
       "#T_10edd_row0_col1, #T_10edd_row1_col0, #T_10edd_row2_col1, #T_10edd_row3_col1, #T_10edd_row4_col1, #T_10edd_row5_col1, #T_10edd_row6_col1 {\n",
       "  background-color: #f7fbff;\n",
       "  color: #000000;\n",
       "}\n",
       "</style>\n",
       "<table id=\"T_10edd\">\n",
       "  <thead>\n",
       "    <tr>\n",
       "      <th class=\"index_name level0\" >Survived</th>\n",
       "      <th id=\"T_10edd_level0_col0\" class=\"col_heading level0 col0\" >0</th>\n",
       "      <th id=\"T_10edd_level0_col1\" class=\"col_heading level0 col1\" >1</th>\n",
       "    </tr>\n",
       "    <tr>\n",
       "      <th class=\"index_name level0\" >SibSp</th>\n",
       "      <th class=\"blank col0\" >&nbsp;</th>\n",
       "      <th class=\"blank col1\" >&nbsp;</th>\n",
       "    </tr>\n",
       "  </thead>\n",
       "  <tbody>\n",
       "    <tr>\n",
       "      <th id=\"T_10edd_level0_row0\" class=\"row_heading level0 row0\" >0</th>\n",
       "      <td id=\"T_10edd_row0_col0\" class=\"data row0 col0\" >398</td>\n",
       "      <td id=\"T_10edd_row0_col1\" class=\"data row0 col1\" >210</td>\n",
       "    </tr>\n",
       "    <tr>\n",
       "      <th id=\"T_10edd_level0_row1\" class=\"row_heading level0 row1\" >1</th>\n",
       "      <td id=\"T_10edd_row1_col0\" class=\"data row1 col0\" >97</td>\n",
       "      <td id=\"T_10edd_row1_col1\" class=\"data row1 col1\" >112</td>\n",
       "    </tr>\n",
       "    <tr>\n",
       "      <th id=\"T_10edd_level0_row2\" class=\"row_heading level0 row2\" >2</th>\n",
       "      <td id=\"T_10edd_row2_col0\" class=\"data row2 col0\" >15</td>\n",
       "      <td id=\"T_10edd_row2_col1\" class=\"data row2 col1\" >13</td>\n",
       "    </tr>\n",
       "    <tr>\n",
       "      <th id=\"T_10edd_level0_row3\" class=\"row_heading level0 row3\" >3</th>\n",
       "      <td id=\"T_10edd_row3_col0\" class=\"data row3 col0\" >12</td>\n",
       "      <td id=\"T_10edd_row3_col1\" class=\"data row3 col1\" >4</td>\n",
       "    </tr>\n",
       "    <tr>\n",
       "      <th id=\"T_10edd_level0_row4\" class=\"row_heading level0 row4\" >4</th>\n",
       "      <td id=\"T_10edd_row4_col0\" class=\"data row4 col0\" >15</td>\n",
       "      <td id=\"T_10edd_row4_col1\" class=\"data row4 col1\" >3</td>\n",
       "    </tr>\n",
       "    <tr>\n",
       "      <th id=\"T_10edd_level0_row5\" class=\"row_heading level0 row5\" >5</th>\n",
       "      <td id=\"T_10edd_row5_col0\" class=\"data row5 col0\" >5</td>\n",
       "      <td id=\"T_10edd_row5_col1\" class=\"data row5 col1\" >0</td>\n",
       "    </tr>\n",
       "    <tr>\n",
       "      <th id=\"T_10edd_level0_row6\" class=\"row_heading level0 row6\" >8</th>\n",
       "      <td id=\"T_10edd_row6_col0\" class=\"data row6 col0\" >7</td>\n",
       "      <td id=\"T_10edd_row6_col1\" class=\"data row6 col1\" >0</td>\n",
       "    </tr>\n",
       "  </tbody>\n",
       "</table>\n"
      ],
      "text/plain": [
       "<pandas.io.formats.style.Styler at 0x786632a5e860>"
      ]
     },
     "metadata": {},
     "output_type": "display_data"
    },
    {
     "data": {
      "image/png": "[encoded data removed]",
      "text/plain": [
       "<Figure size 400x400 with 1 Axes>"
      ]
     },
     "metadata": {},
     "output_type": "display_data"
    }
   ],
   "source": [
    "df = pd.crosstab(train.SibSp, train.Survived).style.background_gradient(cmap='Blues', axis=1)\n",
    "display(df)\n",
    "\n",
    "plt.figure(figsize=(4,4))\n",
    "sns.barplot(data=train, x='SibSp', y='Survived')\n",
    "plt.show()"
   ]
  },
  {
   "cell_type": "markdown",
   "id": "0e641255",
   "metadata": {
    "papermill": {
     "duration": 0.01701,
     "end_time": "2023-06-19T03:03:35.812460",
     "exception": false,
     "start_time": "2023-06-19T03:03:35.795450",
     "status": "completed"
    },
    "tags": []
   },
   "source": [
    "### Parch"
   ]
  },
  {
   "cell_type": "code",
   "execution_count": 22,
   "id": "e640d726",
   "metadata": {
    "execution": {
     "iopub.execute_input": "2023-06-19T03:03:35.847533Z",
     "iopub.status.busy": "2023-06-19T03:03:35.847167Z",
     "iopub.status.idle": "2023-06-19T03:03:36.132751Z",
     "shell.execute_reply": "2023-06-19T03:03:36.131641Z"
    },
    "papermill": {
     "duration": 0.305704,
     "end_time": "2023-06-19T03:03:36.134887",
     "exception": false,
     "start_time": "2023-06-19T03:03:35.829183",
     "status": "completed"
    },
    "tags": []
   },
   "outputs": [
    {
     "data": {
      "text/html": [
       "<style type=\"text/css\">\n",
       "#T_f8945_row0_col0, #T_f8945_row1_col1, #T_f8945_row3_col1, #T_f8945_row4_col0, #T_f8945_row5_col0, #T_f8945_row6_col0 {\n",
       "  background-color: #08306b;\n",
       "  color: #f1f1f1;\n",
       "}\n",
       "#T_f8945_row0_col1, #T_f8945_row1_col0, #T_f8945_row2_col0, #T_f8945_row2_col1, #T_f8945_row3_col0, #T_f8945_row4_col1, #T_f8945_row5_col1, #T_f8945_row6_col1 {\n",
       "  background-color: #f7fbff;\n",
       "  color: #000000;\n",
       "}\n",
       "</style>\n",
       "<table id=\"T_f8945\">\n",
       "  <thead>\n",
       "    <tr>\n",
       "      <th class=\"index_name level0\" >Survived</th>\n",
       "      <th id=\"T_f8945_level0_col0\" class=\"col_heading level0 col0\" >0</th>\n",
       "      <th id=\"T_f8945_level0_col1\" class=\"col_heading level0 col1\" >1</th>\n",
       "    </tr>\n",
       "    <tr>\n",
       "      <th class=\"index_name level0\" >Parch</th>\n",
       "      <th class=\"blank col0\" >&nbsp;</th>\n",
       "      <th class=\"blank col1\" >&nbsp;</th>\n",
       "    </tr>\n",
       "  </thead>\n",
       "  <tbody>\n",
       "    <tr>\n",
       "      <th id=\"T_f8945_level0_row0\" class=\"row_heading level0 row0\" >0</th>\n",
       "      <td id=\"T_f8945_row0_col0\" class=\"data row0 col0\" >445</td>\n",
       "      <td id=\"T_f8945_row0_col1\" class=\"data row0 col1\" >233</td>\n",
       "    </tr>\n",
       "    <tr>\n",
       "      <th id=\"T_f8945_level0_row1\" class=\"row_heading level0 row1\" >1</th>\n",
       "      <td id=\"T_f8945_row1_col0\" class=\"data row1 col0\" >53</td>\n",
       "      <td id=\"T_f8945_row1_col1\" class=\"data row1 col1\" >65</td>\n",
       "    </tr>\n",
       "    <tr>\n",
       "      <th id=\"T_f8945_level0_row2\" class=\"row_heading level0 row2\" >2</th>\n",
       "      <td id=\"T_f8945_row2_col0\" class=\"data row2 col0\" >40</td>\n",
       "      <td id=\"T_f8945_row2_col1\" class=\"data row2 col1\" >40</td>\n",
       "    </tr>\n",
       "    <tr>\n",
       "      <th id=\"T_f8945_level0_row3\" class=\"row_heading level0 row3\" >3</th>\n",
       "      <td id=\"T_f8945_row3_col0\" class=\"data row3 col0\" >2</td>\n",
       "      <td id=\"T_f8945_row3_col1\" class=\"data row3 col1\" >3</td>\n",
       "    </tr>\n",
       "    <tr>\n",
       "      <th id=\"T_f8945_level0_row4\" class=\"row_heading level0 row4\" >4</th>\n",
       "      <td id=\"T_f8945_row4_col0\" class=\"data row4 col0\" >4</td>\n",
       "      <td id=\"T_f8945_row4_col1\" class=\"data row4 col1\" >0</td>\n",
       "    </tr>\n",
       "    <tr>\n",
       "      <th id=\"T_f8945_level0_row5\" class=\"row_heading level0 row5\" >5</th>\n",
       "      <td id=\"T_f8945_row5_col0\" class=\"data row5 col0\" >4</td>\n",
       "      <td id=\"T_f8945_row5_col1\" class=\"data row5 col1\" >1</td>\n",
       "    </tr>\n",
       "    <tr>\n",
       "      <th id=\"T_f8945_level0_row6\" class=\"row_heading level0 row6\" >6</th>\n",
       "      <td id=\"T_f8945_row6_col0\" class=\"data row6 col0\" >1</td>\n",
       "      <td id=\"T_f8945_row6_col1\" class=\"data row6 col1\" >0</td>\n",
       "    </tr>\n",
       "  </tbody>\n",
       "</table>\n"
      ],
      "text/plain": [
       "<pandas.io.formats.style.Styler at 0x78662ea9f3a0>"
      ]
     },
     "metadata": {},
     "output_type": "display_data"
    },
    {
     "data": {
      "image/png": "[encoded data removed]",
      "text/plain": [
       "<Figure size 400x400 with 1 Axes>"
      ]
     },
     "metadata": {},
     "output_type": "display_data"
    }
   ],
   "source": [
    "df = pd.crosstab(train.Parch, train.Survived).style.background_gradient(cmap='Blues', axis=1)\n",
    "display(df)\n",
    "\n",
    "plt.figure(figsize=(4,4))\n",
    "sns.barplot(data=train, x='Parch', y='Survived')\n",
    "plt.show()\n"
   ]
  },
  {
   "cell_type": "markdown",
   "id": "49514847",
   "metadata": {
    "papermill": {
     "duration": 0.017529,
     "end_time": "2023-06-19T03:03:36.174899",
     "exception": false,
     "start_time": "2023-06-19T03:03:36.157370",
     "status": "completed"
    },
    "tags": []
   },
   "source": [
    "### Relatives"
   ]
  },
  {
   "cell_type": "code",
   "execution_count": 23,
   "id": "b7f77d64",
   "metadata": {
    "execution": {
     "iopub.execute_input": "2023-06-19T03:03:36.211065Z",
     "iopub.status.busy": "2023-06-19T03:03:36.209764Z",
     "iopub.status.idle": "2023-06-19T03:03:36.556165Z",
     "shell.execute_reply": "2023-06-19T03:03:36.555128Z"
    },
    "papermill": {
     "duration": 0.36648,
     "end_time": "2023-06-19T03:03:36.558156",
     "exception": false,
     "start_time": "2023-06-19T03:03:36.191676",
     "status": "completed"
    },
    "tags": []
   },
   "outputs": [
    {
     "data": {
      "text/html": [
       "<style type=\"text/css\">\n",
       "#T_d2c31_row0_col0, #T_d2c31_row1_col1, #T_d2c31_row2_col1, #T_d2c31_row3_col1, #T_d2c31_row4_col0, #T_d2c31_row5_col0, #T_d2c31_row6_col0, #T_d2c31_row7_col0, #T_d2c31_row8_col0 {\n",
       "  background-color: #08306b;\n",
       "  color: #f1f1f1;\n",
       "}\n",
       "#T_d2c31_row0_col1, #T_d2c31_row1_col0, #T_d2c31_row2_col0, #T_d2c31_row3_col0, #T_d2c31_row4_col1, #T_d2c31_row5_col1, #T_d2c31_row6_col1, #T_d2c31_row7_col1, #T_d2c31_row8_col1 {\n",
       "  background-color: #f7fbff;\n",
       "  color: #000000;\n",
       "}\n",
       "</style>\n",
       "<table id=\"T_d2c31\">\n",
       "  <thead>\n",
       "    <tr>\n",
       "      <th class=\"index_name level0\" >Survived</th>\n",
       "      <th id=\"T_d2c31_level0_col0\" class=\"col_heading level0 col0\" >0</th>\n",
       "      <th id=\"T_d2c31_level0_col1\" class=\"col_heading level0 col1\" >1</th>\n",
       "    </tr>\n",
       "    <tr>\n",
       "      <th class=\"index_name level0\" >Relatives</th>\n",
       "      <th class=\"blank col0\" >&nbsp;</th>\n",
       "      <th class=\"blank col1\" >&nbsp;</th>\n",
       "    </tr>\n",
       "  </thead>\n",
       "  <tbody>\n",
       "    <tr>\n",
       "      <th id=\"T_d2c31_level0_row0\" class=\"row_heading level0 row0\" >0</th>\n",
       "      <td id=\"T_d2c31_row0_col0\" class=\"data row0 col0\" >374</td>\n",
       "      <td id=\"T_d2c31_row0_col1\" class=\"data row0 col1\" >163</td>\n",
       "    </tr>\n",
       "    <tr>\n",
       "      <th id=\"T_d2c31_level0_row1\" class=\"row_heading level0 row1\" >1</th>\n",
       "      <td id=\"T_d2c31_row1_col0\" class=\"data row1 col0\" >72</td>\n",
       "      <td id=\"T_d2c31_row1_col1\" class=\"data row1 col1\" >89</td>\n",
       "    </tr>\n",
       "    <tr>\n",
       "      <th id=\"T_d2c31_level0_row2\" class=\"row_heading level0 row2\" >2</th>\n",
       "      <td id=\"T_d2c31_row2_col0\" class=\"data row2 col0\" >43</td>\n",
       "      <td id=\"T_d2c31_row2_col1\" class=\"data row2 col1\" >59</td>\n",
       "    </tr>\n",
       "    <tr>\n",
       "      <th id=\"T_d2c31_level0_row3\" class=\"row_heading level0 row3\" >3</th>\n",
       "      <td id=\"T_d2c31_row3_col0\" class=\"data row3 col0\" >8</td>\n",
       "      <td id=\"T_d2c31_row3_col1\" class=\"data row3 col1\" >21</td>\n",
       "    </tr>\n",
       "    <tr>\n",
       "      <th id=\"T_d2c31_level0_row4\" class=\"row_heading level0 row4\" >4</th>\n",
       "      <td id=\"T_d2c31_row4_col0\" class=\"data row4 col0\" >12</td>\n",
       "      <td id=\"T_d2c31_row4_col1\" class=\"data row4 col1\" >3</td>\n",
       "    </tr>\n",
       "    <tr>\n",
       "      <th id=\"T_d2c31_level0_row5\" class=\"row_heading level0 row5\" >5</th>\n",
       "      <td id=\"T_d2c31_row5_col0\" class=\"data row5 col0\" >19</td>\n",
       "      <td id=\"T_d2c31_row5_col1\" class=\"data row5 col1\" >3</td>\n",
       "    </tr>\n",
       "    <tr>\n",
       "      <th id=\"T_d2c31_level0_row6\" class=\"row_heading level0 row6\" >6</th>\n",
       "      <td id=\"T_d2c31_row6_col0\" class=\"data row6 col0\" >8</td>\n",
       "      <td id=\"T_d2c31_row6_col1\" class=\"data row6 col1\" >4</td>\n",
       "    </tr>\n",
       "    <tr>\n",
       "      <th id=\"T_d2c31_level0_row7\" class=\"row_heading level0 row7\" >7</th>\n",
       "      <td id=\"T_d2c31_row7_col0\" class=\"data row7 col0\" >6</td>\n",
       "      <td id=\"T_d2c31_row7_col1\" class=\"data row7 col1\" >0</td>\n",
       "    </tr>\n",
       "    <tr>\n",
       "      <th id=\"T_d2c31_level0_row8\" class=\"row_heading level0 row8\" >10</th>\n",
       "      <td id=\"T_d2c31_row8_col0\" class=\"data row8 col0\" >7</td>\n",
       "      <td id=\"T_d2c31_row8_col1\" class=\"data row8 col1\" >0</td>\n",
       "    </tr>\n",
       "  </tbody>\n",
       "</table>\n"
      ],
      "text/plain": [
       "<pandas.io.formats.style.Styler at 0x78662c84bfd0>"
      ]
     },
     "metadata": {},
     "output_type": "display_data"
    },
    {
     "data": {
      "image/png": "[encoded data removed]",
      "text/plain": [
       "<Figure size 400x400 with 1 Axes>"
      ]
     },
     "metadata": {},
     "output_type": "display_data"
    }
   ],
   "source": [
    "data = train.copy()\n",
    "data['Relatives'] = data['SibSp'] + data['Parch']\n",
    "df = pd.crosstab([data.Relatives], train.Survived).style.background_gradient(cmap='Blues', axis=1)\n",
    "display(df)\n",
    "\n",
    "plt.figure(figsize=(4,4))\n",
    "sns.barplot(data=data, x='Relatives', y='Survived')\n",
    "plt.show()\n",
    "\n",
    "all_data['Relatives'] = all_data['SibSp'] + all_data['Parch']"
   ]
  },
  {
   "cell_type": "markdown",
   "id": "17afc627",
   "metadata": {
    "papermill": {
     "duration": 0.018489,
     "end_time": "2023-06-19T03:03:36.599883",
     "exception": false,
     "start_time": "2023-06-19T03:03:36.581394",
     "status": "completed"
    },
    "tags": []
   },
   "source": [
    "### Ticket"
   ]
  },
  {
   "cell_type": "code",
   "execution_count": 24,
   "id": "7cdb34bf",
   "metadata": {
    "execution": {
     "iopub.execute_input": "2023-06-19T03:03:36.639013Z",
     "iopub.status.busy": "2023-06-19T03:03:36.638010Z",
     "iopub.status.idle": "2023-06-19T03:03:36.964046Z",
     "shell.execute_reply": "2023-06-19T03:03:36.963211Z"
    },
    "papermill": {
     "duration": 0.347792,
     "end_time": "2023-06-19T03:03:36.965950",
     "exception": false,
     "start_time": "2023-06-19T03:03:36.618158",
     "status": "completed"
    },
    "tags": []
   },
   "outputs": [
    {
     "data": {
      "text/html": [
       "<style type=\"text/css\">\n",
       "#T_0cd63_row0_col0, #T_0cd63_row1_col1, #T_0cd63_row2_col1, #T_0cd63_row4_col0, #T_0cd63_row5_col0, #T_0cd63_row6_col0 {\n",
       "  background-color: #08306b;\n",
       "  color: #f1f1f1;\n",
       "}\n",
       "#T_0cd63_row0_col1, #T_0cd63_row1_col0, #T_0cd63_row2_col0, #T_0cd63_row3_col0, #T_0cd63_row3_col1, #T_0cd63_row4_col1, #T_0cd63_row5_col1, #T_0cd63_row6_col1 {\n",
       "  background-color: #f7fbff;\n",
       "  color: #000000;\n",
       "}\n",
       "</style>\n",
       "<table id=\"T_0cd63\">\n",
       "  <thead>\n",
       "    <tr>\n",
       "      <th class=\"index_name level0\" >Survived</th>\n",
       "      <th id=\"T_0cd63_level0_col0\" class=\"col_heading level0 col0\" >0</th>\n",
       "      <th id=\"T_0cd63_level0_col1\" class=\"col_heading level0 col1\" >1</th>\n",
       "    </tr>\n",
       "    <tr>\n",
       "      <th class=\"index_name level0\" >TicketGroup</th>\n",
       "      <th class=\"blank col0\" >&nbsp;</th>\n",
       "      <th class=\"blank col1\" >&nbsp;</th>\n",
       "    </tr>\n",
       "  </thead>\n",
       "  <tbody>\n",
       "    <tr>\n",
       "      <th id=\"T_0cd63_level0_row0\" class=\"row_heading level0 row0\" >1</th>\n",
       "      <td id=\"T_0cd63_row0_col0\" class=\"data row0 col0\" >384</td>\n",
       "      <td id=\"T_0cd63_row0_col1\" class=\"data row0 col1\" >163</td>\n",
       "    </tr>\n",
       "    <tr>\n",
       "      <th id=\"T_0cd63_level0_row1\" class=\"row_heading level0 row1\" >2</th>\n",
       "      <td id=\"T_0cd63_row1_col0\" class=\"data row1 col0\" >80</td>\n",
       "      <td id=\"T_0cd63_row1_col1\" class=\"data row1 col1\" >108</td>\n",
       "    </tr>\n",
       "    <tr>\n",
       "      <th id=\"T_0cd63_level0_row2\" class=\"row_heading level0 row2\" >3</th>\n",
       "      <td id=\"T_0cd63_row2_col0\" class=\"data row2 col0\" >19</td>\n",
       "      <td id=\"T_0cd63_row2_col1\" class=\"data row2 col1\" >44</td>\n",
       "    </tr>\n",
       "    <tr>\n",
       "      <th id=\"T_0cd63_level0_row3\" class=\"row_heading level0 row3\" >4</th>\n",
       "      <td id=\"T_0cd63_row3_col0\" class=\"data row3 col0\" >22</td>\n",
       "      <td id=\"T_0cd63_row3_col1\" class=\"data row3 col1\" >22</td>\n",
       "    </tr>\n",
       "    <tr>\n",
       "      <th id=\"T_0cd63_level0_row4\" class=\"row_heading level0 row4\" >5</th>\n",
       "      <td id=\"T_0cd63_row4_col0\" class=\"data row4 col0\" >10</td>\n",
       "      <td id=\"T_0cd63_row4_col1\" class=\"data row4 col1\" >0</td>\n",
       "    </tr>\n",
       "    <tr>\n",
       "      <th id=\"T_0cd63_level0_row5\" class=\"row_heading level0 row5\" >6</th>\n",
       "      <td id=\"T_0cd63_row5_col0\" class=\"data row5 col0\" >18</td>\n",
       "      <td id=\"T_0cd63_row5_col1\" class=\"data row5 col1\" >0</td>\n",
       "    </tr>\n",
       "    <tr>\n",
       "      <th id=\"T_0cd63_level0_row6\" class=\"row_heading level0 row6\" >7</th>\n",
       "      <td id=\"T_0cd63_row6_col0\" class=\"data row6 col0\" >16</td>\n",
       "      <td id=\"T_0cd63_row6_col1\" class=\"data row6 col1\" >5</td>\n",
       "    </tr>\n",
       "  </tbody>\n",
       "</table>\n"
      ],
      "text/plain": [
       "<pandas.io.formats.style.Styler at 0x78662c833ca0>"
      ]
     },
     "metadata": {},
     "output_type": "display_data"
    },
    {
     "data": {
      "image/png": "[encoded data removed]",
      "text/plain": [
       "<Figure size 400x400 with 1 Axes>"
      ]
     },
     "metadata": {},
     "output_type": "display_data"
    }
   ],
   "source": [
    "data = train.copy()\n",
    "data['TicketGroup'] = data.groupby('Ticket')['Ticket'].transform('count')\n",
    "df = pd.crosstab([data.TicketGroup], train.Survived).style.background_gradient(cmap='Blues', axis=1)\n",
    "display(df)\n",
    "\n",
    "plt.figure(figsize=(4,4))\n",
    "sns.barplot(data=data, x='TicketGroup', y='Survived')\n",
    "plt.show()\n",
    "\n",
    "\n",
    "all_data['TicketGroup'] = all_data.groupby('Ticket')['Ticket'].transform('count')"
   ]
  },
  {
   "cell_type": "markdown",
   "id": "1ef54268",
   "metadata": {
    "papermill": {
     "duration": 0.017048,
     "end_time": "2023-06-19T03:03:37.001215",
     "exception": false,
     "start_time": "2023-06-19T03:03:36.984167",
     "status": "completed"
    },
    "tags": []
   },
   "source": [
    "### Cabin"
   ]
  },
  {
   "cell_type": "code",
   "execution_count": 25,
   "id": "276122e7",
   "metadata": {
    "execution": {
     "iopub.execute_input": "2023-06-19T03:03:37.039889Z",
     "iopub.status.busy": "2023-06-19T03:03:37.039401Z",
     "iopub.status.idle": "2023-06-19T03:03:37.226388Z",
     "shell.execute_reply": "2023-06-19T03:03:37.224984Z"
    },
    "papermill": {
     "duration": 0.209994,
     "end_time": "2023-06-19T03:03:37.228681",
     "exception": false,
     "start_time": "2023-06-19T03:03:37.018687",
     "status": "completed"
    },
    "tags": []
   },
   "outputs": [
    {
     "data": {
      "text/html": [
       "<style type=\"text/css\">\n",
       "#T_980a0_row0_col0, #T_980a0_row1_col1 {\n",
       "  background-color: #08306b;\n",
       "  color: #f1f1f1;\n",
       "}\n",
       "#T_980a0_row0_col1, #T_980a0_row1_col0 {\n",
       "  background-color: #f7fbff;\n",
       "  color: #000000;\n",
       "}\n",
       "</style>\n",
       "<table id=\"T_980a0\">\n",
       "  <thead>\n",
       "    <tr>\n",
       "      <th class=\"index_name level0\" >Survived</th>\n",
       "      <th id=\"T_980a0_level0_col0\" class=\"col_heading level0 col0\" >0</th>\n",
       "      <th id=\"T_980a0_level0_col1\" class=\"col_heading level0 col1\" >1</th>\n",
       "    </tr>\n",
       "    <tr>\n",
       "      <th class=\"index_name level0\" >HasCabin</th>\n",
       "      <th class=\"blank col0\" >&nbsp;</th>\n",
       "      <th class=\"blank col1\" >&nbsp;</th>\n",
       "    </tr>\n",
       "  </thead>\n",
       "  <tbody>\n",
       "    <tr>\n",
       "      <th id=\"T_980a0_level0_row0\" class=\"row_heading level0 row0\" >False</th>\n",
       "      <td id=\"T_980a0_row0_col0\" class=\"data row0 col0\" >481</td>\n",
       "      <td id=\"T_980a0_row0_col1\" class=\"data row0 col1\" >206</td>\n",
       "    </tr>\n",
       "    <tr>\n",
       "      <th id=\"T_980a0_level0_row1\" class=\"row_heading level0 row1\" >True</th>\n",
       "      <td id=\"T_980a0_row1_col0\" class=\"data row1 col0\" >68</td>\n",
       "      <td id=\"T_980a0_row1_col1\" class=\"data row1 col1\" >136</td>\n",
       "    </tr>\n",
       "  </tbody>\n",
       "</table>\n"
      ],
      "text/plain": [
       "<pandas.io.formats.style.Styler at 0x7866304ccdf0>"
      ]
     },
     "metadata": {},
     "output_type": "display_data"
    },
    {
     "data": {
      "image/png": "[encoded data removed]",
      "text/plain": [
       "<Figure size 400x400 with 1 Axes>"
      ]
     },
     "metadata": {},
     "output_type": "display_data"
    }
   ],
   "source": [
    "data = train.copy()\n",
    "data['HasCabin'] = ~all_data['Cabin'].isnull()\n",
    "df = pd.crosstab(data.HasCabin, train.Survived).style.background_gradient(cmap='Blues', axis=1)\n",
    "display(df)\n",
    "\n",
    "plt.figure(figsize=(4,4))\n",
    "sns.barplot(data=data, x='HasCabin', y='Survived')\n",
    "plt.show()\n",
    "\n",
    "all_data['HasCabin'] = ~all_data['Cabin'].isnull()"
   ]
  },
  {
   "cell_type": "markdown",
   "id": "555f6892",
   "metadata": {
    "papermill": {
     "duration": 0.0209,
     "end_time": "2023-06-19T03:03:37.273977",
     "exception": false,
     "start_time": "2023-06-19T03:03:37.253077",
     "status": "completed"
    },
    "tags": []
   },
   "source": [
    "### Deck"
   ]
  },
  {
   "cell_type": "code",
   "execution_count": 26,
   "id": "05373146",
   "metadata": {
    "execution": {
     "iopub.execute_input": "2023-06-19T03:03:37.314539Z",
     "iopub.status.busy": "2023-06-19T03:03:37.313675Z",
     "iopub.status.idle": "2023-06-19T03:03:37.615404Z",
     "shell.execute_reply": "2023-06-19T03:03:37.614398Z"
    },
    "papermill": {
     "duration": 0.324649,
     "end_time": "2023-06-19T03:03:37.618066",
     "exception": false,
     "start_time": "2023-06-19T03:03:37.293417",
     "status": "completed"
    },
    "tags": []
   },
   "outputs": [
    {
     "data": {
      "text/html": [
       "<style type=\"text/css\">\n",
       "#T_cb61f_row0_col0, #T_cb61f_row1_col1, #T_cb61f_row2_col1, #T_cb61f_row3_col1, #T_cb61f_row4_col1, #T_cb61f_row5_col1, #T_cb61f_row7_col0 {\n",
       "  background-color: #08306b;\n",
       "  color: #f1f1f1;\n",
       "}\n",
       "#T_cb61f_row0_col1, #T_cb61f_row1_col0, #T_cb61f_row2_col0, #T_cb61f_row3_col0, #T_cb61f_row4_col0, #T_cb61f_row5_col0, #T_cb61f_row6_col0, #T_cb61f_row6_col1, #T_cb61f_row7_col1 {\n",
       "  background-color: #f7fbff;\n",
       "  color: #000000;\n",
       "}\n",
       "</style>\n",
       "<table id=\"T_cb61f\">\n",
       "  <thead>\n",
       "    <tr>\n",
       "      <th class=\"index_name level0\" >Survived</th>\n",
       "      <th id=\"T_cb61f_level0_col0\" class=\"col_heading level0 col0\" >0</th>\n",
       "      <th id=\"T_cb61f_level0_col1\" class=\"col_heading level0 col1\" >1</th>\n",
       "    </tr>\n",
       "    <tr>\n",
       "      <th class=\"index_name level0\" >Deck</th>\n",
       "      <th class=\"blank col0\" >&nbsp;</th>\n",
       "      <th class=\"blank col1\" >&nbsp;</th>\n",
       "    </tr>\n",
       "  </thead>\n",
       "  <tbody>\n",
       "    <tr>\n",
       "      <th id=\"T_cb61f_level0_row0\" class=\"row_heading level0 row0\" >A</th>\n",
       "      <td id=\"T_cb61f_row0_col0\" class=\"data row0 col0\" >8</td>\n",
       "      <td id=\"T_cb61f_row0_col1\" class=\"data row0 col1\" >7</td>\n",
       "    </tr>\n",
       "    <tr>\n",
       "      <th id=\"T_cb61f_level0_row1\" class=\"row_heading level0 row1\" >B</th>\n",
       "      <td id=\"T_cb61f_row1_col0\" class=\"data row1 col0\" >12</td>\n",
       "      <td id=\"T_cb61f_row1_col1\" class=\"data row1 col1\" >35</td>\n",
       "    </tr>\n",
       "    <tr>\n",
       "      <th id=\"T_cb61f_level0_row2\" class=\"row_heading level0 row2\" >C</th>\n",
       "      <td id=\"T_cb61f_row2_col0\" class=\"data row2 col0\" >24</td>\n",
       "      <td id=\"T_cb61f_row2_col1\" class=\"data row2 col1\" >35</td>\n",
       "    </tr>\n",
       "    <tr>\n",
       "      <th id=\"T_cb61f_level0_row3\" class=\"row_heading level0 row3\" >D</th>\n",
       "      <td id=\"T_cb61f_row3_col0\" class=\"data row3 col0\" >8</td>\n",
       "      <td id=\"T_cb61f_row3_col1\" class=\"data row3 col1\" >25</td>\n",
       "    </tr>\n",
       "    <tr>\n",
       "      <th id=\"T_cb61f_level0_row4\" class=\"row_heading level0 row4\" >E</th>\n",
       "      <td id=\"T_cb61f_row4_col0\" class=\"data row4 col0\" >8</td>\n",
       "      <td id=\"T_cb61f_row4_col1\" class=\"data row4 col1\" >24</td>\n",
       "    </tr>\n",
       "    <tr>\n",
       "      <th id=\"T_cb61f_level0_row5\" class=\"row_heading level0 row5\" >F</th>\n",
       "      <td id=\"T_cb61f_row5_col0\" class=\"data row5 col0\" >5</td>\n",
       "      <td id=\"T_cb61f_row5_col1\" class=\"data row5 col1\" >8</td>\n",
       "    </tr>\n",
       "    <tr>\n",
       "      <th id=\"T_cb61f_level0_row6\" class=\"row_heading level0 row6\" >G</th>\n",
       "      <td id=\"T_cb61f_row6_col0\" class=\"data row6 col0\" >2</td>\n",
       "      <td id=\"T_cb61f_row6_col1\" class=\"data row6 col1\" >2</td>\n",
       "    </tr>\n",
       "    <tr>\n",
       "      <th id=\"T_cb61f_level0_row7\" class=\"row_heading level0 row7\" >T</th>\n",
       "      <td id=\"T_cb61f_row7_col0\" class=\"data row7 col0\" >1</td>\n",
       "      <td id=\"T_cb61f_row7_col1\" class=\"data row7 col1\" >0</td>\n",
       "    </tr>\n",
       "  </tbody>\n",
       "</table>\n"
      ],
      "text/plain": [
       "<pandas.io.formats.style.Styler at 0x7866326dbb80>"
      ]
     },
     "metadata": {},
     "output_type": "display_data"
    },
    {
     "data": {
      "image/png": "[encoded data removed]",
      "text/plain": [
       "<Figure size 400x400 with 1 Axes>"
      ]
     },
     "metadata": {},
     "output_type": "display_data"
    }
   ],
   "source": [
    "data = train.copy()\n",
    "data['Deck'] = np.where(~data['Cabin'].isnull(), data['Cabin'].str.slice(stop=1), np.nan)\n",
    "df = pd.crosstab(data.Deck, train.Survived).style.background_gradient(cmap='Blues', axis=1)\n",
    "display(df)\n",
    "\n",
    "plt.figure(figsize=(4,4))\n",
    "sns.barplot(data=data, x='Deck', y='Survived')\n",
    "plt.show()\n",
    "\n",
    "all_data['Deck'] = np.where(~all_data['Cabin'].isnull(), all_data['Cabin'].str.slice(stop=1), np.nan)\n",
    "# train = pd.concat([total_data[0:891], train[['Survived']]], axis=1)\n",
    "\n",
    "# sns.countplot(data=train, x='Deck', hue='Survived', order=['A', 'B', 'C', 'D', 'E', 'F', 'G', 'T'])"
   ]
  },
  {
   "cell_type": "code",
   "execution_count": 27,
   "id": "0c736692",
   "metadata": {
    "execution": {
     "iopub.execute_input": "2023-06-19T03:03:37.662745Z",
     "iopub.status.busy": "2023-06-19T03:03:37.662143Z",
     "iopub.status.idle": "2023-06-19T03:03:37.677066Z",
     "shell.execute_reply": "2023-06-19T03:03:37.676107Z"
    },
    "papermill": {
     "duration": 0.037482,
     "end_time": "2023-06-19T03:03:37.679169",
     "exception": false,
     "start_time": "2023-06-19T03:03:37.641687",
     "status": "completed"
    },
    "tags": []
   },
   "outputs": [
    {
     "data": {
      "text/html": [
       "<div>\n",
       "<style scoped>\n",
       "    .dataframe tbody tr th:only-of-type {\n",
       "        vertical-align: middle;\n",
       "    }\n",
       "\n",
       "    .dataframe tbody tr th {\n",
       "        vertical-align: top;\n",
       "    }\n",
       "\n",
       "    .dataframe thead th {\n",
       "        text-align: right;\n",
       "    }\n",
       "</style>\n",
       "<table border=\"1\" class=\"dataframe\">\n",
       "  <thead>\n",
       "    <tr style=\"text-align: right;\">\n",
       "      <th></th>\n",
       "      <th>PassengerId</th>\n",
       "      <th>Pclass</th>\n",
       "      <th>Name</th>\n",
       "      <th>Sex</th>\n",
       "      <th>Age</th>\n",
       "      <th>SibSp</th>\n",
       "      <th>Parch</th>\n",
       "      <th>Ticket</th>\n",
       "      <th>Fare</th>\n",
       "      <th>Cabin</th>\n",
       "      <th>Embarked</th>\n",
       "      <th>Title</th>\n",
       "      <th>Relatives</th>\n",
       "      <th>TicketGroup</th>\n",
       "      <th>HasCabin</th>\n",
       "      <th>Deck</th>\n",
       "    </tr>\n",
       "  </thead>\n",
       "  <tbody>\n",
       "    <tr>\n",
       "      <th>0</th>\n",
       "      <td>1</td>\n",
       "      <td>3</td>\n",
       "      <td>Braund, Mr. Owen Harris</td>\n",
       "      <td>male</td>\n",
       "      <td>22.0</td>\n",
       "      <td>1</td>\n",
       "      <td>0</td>\n",
       "      <td>A/5 21171</td>\n",
       "      <td>7.2500</td>\n",
       "      <td>NaN</td>\n",
       "      <td>S</td>\n",
       "      <td>Mr.</td>\n",
       "      <td>1</td>\n",
       "      <td>1</td>\n",
       "      <td>False</td>\n",
       "      <td>NaN</td>\n",
       "    </tr>\n",
       "    <tr>\n",
       "      <th>1</th>\n",
       "      <td>2</td>\n",
       "      <td>1</td>\n",
       "      <td>Cumings, Mrs. John Bradley (Florence Briggs Th...</td>\n",
       "      <td>female</td>\n",
       "      <td>38.0</td>\n",
       "      <td>1</td>\n",
       "      <td>0</td>\n",
       "      <td>PC 17599</td>\n",
       "      <td>71.2833</td>\n",
       "      <td>C85</td>\n",
       "      <td>C</td>\n",
       "      <td>Mrs.</td>\n",
       "      <td>1</td>\n",
       "      <td>2</td>\n",
       "      <td>True</td>\n",
       "      <td>C</td>\n",
       "    </tr>\n",
       "    <tr>\n",
       "      <th>2</th>\n",
       "      <td>3</td>\n",
       "      <td>3</td>\n",
       "      <td>Heikkinen, Miss. Laina</td>\n",
       "      <td>female</td>\n",
       "      <td>26.0</td>\n",
       "      <td>0</td>\n",
       "      <td>0</td>\n",
       "      <td>STON/O2. 3101282</td>\n",
       "      <td>7.9250</td>\n",
       "      <td>NaN</td>\n",
       "      <td>S</td>\n",
       "      <td>Miss.</td>\n",
       "      <td>0</td>\n",
       "      <td>1</td>\n",
       "      <td>False</td>\n",
       "      <td>NaN</td>\n",
       "    </tr>\n",
       "    <tr>\n",
       "      <th>3</th>\n",
       "      <td>4</td>\n",
       "      <td>1</td>\n",
       "      <td>Futrelle, Mrs. Jacques Heath (Lily May Peel)</td>\n",
       "      <td>female</td>\n",
       "      <td>35.0</td>\n",
       "      <td>1</td>\n",
       "      <td>0</td>\n",
       "      <td>113803</td>\n",
       "      <td>53.1000</td>\n",
       "      <td>C123</td>\n",
       "      <td>S</td>\n",
       "      <td>Mrs.</td>\n",
       "      <td>1</td>\n",
       "      <td>2</td>\n",
       "      <td>True</td>\n",
       "      <td>C</td>\n",
       "    </tr>\n",
       "    <tr>\n",
       "      <th>4</th>\n",
       "      <td>5</td>\n",
       "      <td>3</td>\n",
       "      <td>Allen, Mr. William Henry</td>\n",
       "      <td>male</td>\n",
       "      <td>35.0</td>\n",
       "      <td>0</td>\n",
       "      <td>0</td>\n",
       "      <td>373450</td>\n",
       "      <td>8.0500</td>\n",
       "      <td>NaN</td>\n",
       "      <td>S</td>\n",
       "      <td>Mr.</td>\n",
       "      <td>0</td>\n",
       "      <td>1</td>\n",
       "      <td>False</td>\n",
       "      <td>NaN</td>\n",
       "    </tr>\n",
       "  </tbody>\n",
       "</table>\n",
       "</div>"
      ],
      "text/plain": [
       "   PassengerId  Pclass                                               Name  \\\n",
       "0            1       3                            Braund, Mr. Owen Harris   \n",
       "1            2       1  Cumings, Mrs. John Bradley (Florence Briggs Th...   \n",
       "2            3       3                             Heikkinen, Miss. Laina   \n",
       "3            4       1       Futrelle, Mrs. Jacques Heath (Lily May Peel)   \n",
       "4            5       3                           Allen, Mr. William Henry   \n",
       "\n",
       "      Sex   Age  SibSp  Parch            Ticket     Fare Cabin Embarked  \\\n",
       "0    male  22.0      1      0         A/5 21171   7.2500   NaN        S   \n",
       "1  female  38.0      1      0          PC 17599  71.2833   C85        C   \n",
       "2  female  26.0      0      0  STON/O2. 3101282   7.9250   NaN        S   \n",
       "3  female  35.0      1      0            113803  53.1000  C123        S   \n",
       "4    male  35.0      0      0            373450   8.0500   NaN        S   \n",
       "\n",
       "   Title  Relatives  TicketGroup  HasCabin Deck  \n",
       "0    Mr.          1            1     False  NaN  \n",
       "1   Mrs.          1            2      True    C  \n",
       "2  Miss.          0            1     False  NaN  \n",
       "3   Mrs.          1            2      True    C  \n",
       "4    Mr.          0            1     False  NaN  "
      ]
     },
     "execution_count": 27,
     "metadata": {},
     "output_type": "execute_result"
    }
   ],
   "source": [
    "all_data.head()"
   ]
  },
  {
   "cell_type": "markdown",
   "id": "0e797b19",
   "metadata": {
    "execution": {
     "iopub.execute_input": "2023-06-06T03:04:32.489093Z",
     "iopub.status.busy": "2023-06-06T03:04:32.488762Z",
     "iopub.status.idle": "2023-06-06T03:04:32.495142Z",
     "shell.execute_reply": "2023-06-06T03:04:32.494299Z",
     "shell.execute_reply.started": "2023-06-06T03:04:32.489067Z"
    },
    "papermill": {
     "duration": 0.018877,
     "end_time": "2023-06-19T03:03:37.717150",
     "exception": false,
     "start_time": "2023-06-19T03:03:37.698273",
     "status": "completed"
    },
    "tags": []
   },
   "source": [
    "將浮點數欄位進行分組在特徵工程中可以有助於提升機器學習的性能，具體取決於數據的性質和特定的應用場景。下面是一些可能的情況：\n",
    "- 創建類別型特徵：將連續的浮點數值轉換為離散的類別型特徵，可以幫助模型捕捉不同數值範圍的差異。這種分組可以提供對數據的更好解釋性，並且在某些情況下能夠捕捉到非線性關係。\n",
    "- 減少數據的噪聲和異常值的影響：將浮點數值分組可以減少數據中噪聲和異常值對模型的影響。通過將數據分組，模型將更關注每個分組的整體模式，而不是單個數值的具體數值。\n",
    "- 解決過擬合：對於樣本數較少的情況，特別是在高維數據集中，將浮點數值進行分組可以減少模型對數據的過擬合。通過將數據分組，模型將專注於學習分組之間的模式，而不是過多關注個別的數值。\n",
    "\n",
    "在進行分組時，可以考慮以下策略：\n",
    "- 等頻分組 (Fixed-width binning)：將數據分為等頻率的區間。這種分組策略可以確保每個區間內具有相同數量的數據點，從而平均地捕捉數據的分佈。\n",
    "- 等寬分組 (Quantile-based binning)：將數據平均分為固定寬度的區間。這種分組策略可以確保每個區間具有相同的寬度，但可能導致某些區間內的數據點數量不均勻。\n",
    "\n",
    "**不過對於隨機森林顯著不大**"
   ]
  },
  {
   "cell_type": "markdown",
   "id": "acbf85a9",
   "metadata": {
    "papermill": {
     "duration": 0.018621,
     "end_time": "2023-06-19T03:03:37.755145",
     "exception": false,
     "start_time": "2023-06-19T03:03:37.736524",
     "status": "completed"
    },
    "tags": []
   },
   "source": [
    "# Encoding"
   ]
  },
  {
   "cell_type": "code",
   "execution_count": 28,
   "id": "1f3abe22",
   "metadata": {
    "execution": {
     "iopub.execute_input": "2023-06-19T03:03:37.794534Z",
     "iopub.status.busy": "2023-06-19T03:03:37.793906Z",
     "iopub.status.idle": "2023-06-19T03:03:37.808444Z",
     "shell.execute_reply": "2023-06-19T03:03:37.807056Z"
    },
    "papermill": {
     "duration": 0.03705,
     "end_time": "2023-06-19T03:03:37.810788",
     "exception": false,
     "start_time": "2023-06-19T03:03:37.773738",
     "status": "completed"
    },
    "tags": []
   },
   "outputs": [
    {
     "data": {
      "text/html": [
       "<div>\n",
       "<style scoped>\n",
       "    .dataframe tbody tr th:only-of-type {\n",
       "        vertical-align: middle;\n",
       "    }\n",
       "\n",
       "    .dataframe tbody tr th {\n",
       "        vertical-align: top;\n",
       "    }\n",
       "\n",
       "    .dataframe thead th {\n",
       "        text-align: right;\n",
       "    }\n",
       "</style>\n",
       "<table border=\"1\" class=\"dataframe\">\n",
       "  <thead>\n",
       "    <tr style=\"text-align: right;\">\n",
       "      <th></th>\n",
       "      <th>Pclass</th>\n",
       "      <th>Sex</th>\n",
       "      <th>Age</th>\n",
       "      <th>SibSp</th>\n",
       "      <th>Parch</th>\n",
       "      <th>Fare</th>\n",
       "      <th>Embarked</th>\n",
       "      <th>Relatives</th>\n",
       "      <th>TicketGroup</th>\n",
       "      <th>HasCabin</th>\n",
       "    </tr>\n",
       "  </thead>\n",
       "  <tbody>\n",
       "    <tr>\n",
       "      <th>0</th>\n",
       "      <td>3</td>\n",
       "      <td>male</td>\n",
       "      <td>22.0</td>\n",
       "      <td>1</td>\n",
       "      <td>0</td>\n",
       "      <td>7.2500</td>\n",
       "      <td>S</td>\n",
       "      <td>1</td>\n",
       "      <td>1</td>\n",
       "      <td>False</td>\n",
       "    </tr>\n",
       "    <tr>\n",
       "      <th>1</th>\n",
       "      <td>1</td>\n",
       "      <td>female</td>\n",
       "      <td>38.0</td>\n",
       "      <td>1</td>\n",
       "      <td>0</td>\n",
       "      <td>71.2833</td>\n",
       "      <td>C</td>\n",
       "      <td>1</td>\n",
       "      <td>2</td>\n",
       "      <td>True</td>\n",
       "    </tr>\n",
       "    <tr>\n",
       "      <th>2</th>\n",
       "      <td>3</td>\n",
       "      <td>female</td>\n",
       "      <td>26.0</td>\n",
       "      <td>0</td>\n",
       "      <td>0</td>\n",
       "      <td>7.9250</td>\n",
       "      <td>S</td>\n",
       "      <td>0</td>\n",
       "      <td>1</td>\n",
       "      <td>False</td>\n",
       "    </tr>\n",
       "  </tbody>\n",
       "</table>\n",
       "</div>"
      ],
      "text/plain": [
       "   Pclass     Sex   Age  SibSp  Parch     Fare Embarked  Relatives  \\\n",
       "0       3    male  22.0      1      0   7.2500        S          1   \n",
       "1       1  female  38.0      1      0  71.2833        C          1   \n",
       "2       3  female  26.0      0      0   7.9250        S          0   \n",
       "\n",
       "   TicketGroup  HasCabin  \n",
       "0            1     False  \n",
       "1            2      True  \n",
       "2            1     False  "
      ]
     },
     "execution_count": 28,
     "metadata": {},
     "output_type": "execute_result"
    }
   ],
   "source": [
    "total_data = all_data.copy()\n",
    "\n",
    "total_data = total_data.drop(['PassengerId', 'Name', 'Ticket', 'Cabin', 'Title', 'Deck'], axis=1)\n",
    "total_data.head(3)"
   ]
  },
  {
   "cell_type": "markdown",
   "id": "53ecea3e",
   "metadata": {
    "papermill": {
     "duration": 0.019067,
     "end_time": "2023-06-19T03:03:37.849873",
     "exception": false,
     "start_time": "2023-06-19T03:03:37.830806",
     "status": "completed"
    },
    "tags": []
   },
   "source": [
    "### One-Hot Encoding"
   ]
  },
  {
   "cell_type": "code",
   "execution_count": 29,
   "id": "5d558144",
   "metadata": {
    "execution": {
     "iopub.execute_input": "2023-06-19T03:03:37.890739Z",
     "iopub.status.busy": "2023-06-19T03:03:37.890095Z",
     "iopub.status.idle": "2023-06-19T03:03:37.910926Z",
     "shell.execute_reply": "2023-06-19T03:03:37.909863Z"
    },
    "papermill": {
     "duration": 0.044276,
     "end_time": "2023-06-19T03:03:37.913174",
     "exception": false,
     "start_time": "2023-06-19T03:03:37.868898",
     "status": "completed"
    },
    "tags": []
   },
   "outputs": [
    {
     "data": {
      "text/html": [
       "<div>\n",
       "<style scoped>\n",
       "    .dataframe tbody tr th:only-of-type {\n",
       "        vertical-align: middle;\n",
       "    }\n",
       "\n",
       "    .dataframe tbody tr th {\n",
       "        vertical-align: top;\n",
       "    }\n",
       "\n",
       "    .dataframe thead th {\n",
       "        text-align: right;\n",
       "    }\n",
       "</style>\n",
       "<table border=\"1\" class=\"dataframe\">\n",
       "  <thead>\n",
       "    <tr style=\"text-align: right;\">\n",
       "      <th></th>\n",
       "      <th>Age</th>\n",
       "      <th>SibSp</th>\n",
       "      <th>Parch</th>\n",
       "      <th>Fare</th>\n",
       "      <th>Relatives</th>\n",
       "      <th>TicketGroup</th>\n",
       "      <th>HasCabin</th>\n",
       "      <th>Pclass_1</th>\n",
       "      <th>Pclass_2</th>\n",
       "      <th>Pclass_3</th>\n",
       "      <th>Sex_female</th>\n",
       "      <th>Sex_male</th>\n",
       "      <th>Embarked_C</th>\n",
       "      <th>Embarked_Q</th>\n",
       "      <th>Embarked_S</th>\n",
       "    </tr>\n",
       "  </thead>\n",
       "  <tbody>\n",
       "    <tr>\n",
       "      <th>0</th>\n",
       "      <td>22.0</td>\n",
       "      <td>1</td>\n",
       "      <td>0</td>\n",
       "      <td>7.2500</td>\n",
       "      <td>1</td>\n",
       "      <td>1</td>\n",
       "      <td>False</td>\n",
       "      <td>0</td>\n",
       "      <td>0</td>\n",
       "      <td>1</td>\n",
       "      <td>0</td>\n",
       "      <td>1</td>\n",
       "      <td>0</td>\n",
       "      <td>0</td>\n",
       "      <td>1</td>\n",
       "    </tr>\n",
       "    <tr>\n",
       "      <th>1</th>\n",
       "      <td>38.0</td>\n",
       "      <td>1</td>\n",
       "      <td>0</td>\n",
       "      <td>71.2833</td>\n",
       "      <td>1</td>\n",
       "      <td>2</td>\n",
       "      <td>True</td>\n",
       "      <td>1</td>\n",
       "      <td>0</td>\n",
       "      <td>0</td>\n",
       "      <td>1</td>\n",
       "      <td>0</td>\n",
       "      <td>1</td>\n",
       "      <td>0</td>\n",
       "      <td>0</td>\n",
       "    </tr>\n",
       "    <tr>\n",
       "      <th>2</th>\n",
       "      <td>26.0</td>\n",
       "      <td>0</td>\n",
       "      <td>0</td>\n",
       "      <td>7.9250</td>\n",
       "      <td>0</td>\n",
       "      <td>1</td>\n",
       "      <td>False</td>\n",
       "      <td>0</td>\n",
       "      <td>0</td>\n",
       "      <td>1</td>\n",
       "      <td>1</td>\n",
       "      <td>0</td>\n",
       "      <td>0</td>\n",
       "      <td>0</td>\n",
       "      <td>1</td>\n",
       "    </tr>\n",
       "  </tbody>\n",
       "</table>\n",
       "</div>"
      ],
      "text/plain": [
       "    Age  SibSp  Parch     Fare  Relatives  TicketGroup  HasCabin  Pclass_1  \\\n",
       "0  22.0      1      0   7.2500          1            1     False         0   \n",
       "1  38.0      1      0  71.2833          1            2      True         1   \n",
       "2  26.0      0      0   7.9250          0            1     False         0   \n",
       "\n",
       "   Pclass_2  Pclass_3  Sex_female  Sex_male  Embarked_C  Embarked_Q  \\\n",
       "0         0         1           0         1           0           0   \n",
       "1         0         0           1         0           1           0   \n",
       "2         0         1           1         0           0           0   \n",
       "\n",
       "   Embarked_S  \n",
       "0           1  \n",
       "1           0  \n",
       "2           1  "
      ]
     },
     "metadata": {},
     "output_type": "display_data"
    }
   ],
   "source": [
    "total_data = pd.get_dummies(total_data, columns=['Pclass', 'Sex', 'Embarked'])\n",
    "display(total_data.head(3))"
   ]
  },
  {
   "cell_type": "code",
   "execution_count": 30,
   "id": "a9749d32",
   "metadata": {
    "execution": {
     "iopub.execute_input": "2023-06-19T03:03:37.957451Z",
     "iopub.status.busy": "2023-06-19T03:03:37.956552Z",
     "iopub.status.idle": "2023-06-19T03:03:37.962937Z",
     "shell.execute_reply": "2023-06-19T03:03:37.961427Z"
    },
    "papermill": {
     "duration": 0.030373,
     "end_time": "2023-06-19T03:03:37.965667",
     "exception": false,
     "start_time": "2023-06-19T03:03:37.935294",
     "status": "completed"
    },
    "tags": []
   },
   "outputs": [],
   "source": [
    "# from sklearn.preprocessing import LabelEncoder\n",
    "\n",
    "# total_data['Sex'] = LabelEncoder().fit_transform(total_data['Sex'])\n",
    "# display(total_data.head(3))"
   ]
  },
  {
   "cell_type": "markdown",
   "id": "1971ecb2",
   "metadata": {
    "papermill": {
     "duration": 0.018672,
     "end_time": "2023-06-19T03:03:38.004887",
     "exception": false,
     "start_time": "2023-06-19T03:03:37.986215",
     "status": "completed"
    },
    "tags": []
   },
   "source": [
    "# Model"
   ]
  },
  {
   "cell_type": "code",
   "execution_count": 31,
   "id": "0e3136ba",
   "metadata": {
    "execution": {
     "iopub.execute_input": "2023-06-19T03:03:38.047032Z",
     "iopub.status.busy": "2023-06-19T03:03:38.046685Z",
     "iopub.status.idle": "2023-06-19T03:03:38.722184Z",
     "shell.execute_reply": "2023-06-19T03:03:38.721151Z"
    },
    "papermill": {
     "duration": 0.698526,
     "end_time": "2023-06-19T03:03:38.724618",
     "exception": false,
     "start_time": "2023-06-19T03:03:38.026092",
     "status": "completed"
    },
    "tags": []
   },
   "outputs": [
    {
     "data": {
      "text/html": [
       "<div>\n",
       "<style scoped>\n",
       "    .dataframe tbody tr th:only-of-type {\n",
       "        vertical-align: middle;\n",
       "    }\n",
       "\n",
       "    .dataframe tbody tr th {\n",
       "        vertical-align: top;\n",
       "    }\n",
       "\n",
       "    .dataframe thead th {\n",
       "        text-align: right;\n",
       "    }\n",
       "</style>\n",
       "<table border=\"1\" class=\"dataframe\">\n",
       "  <thead>\n",
       "    <tr style=\"text-align: right;\">\n",
       "      <th></th>\n",
       "      <th>MI Scores</th>\n",
       "    </tr>\n",
       "  </thead>\n",
       "  <tbody>\n",
       "    <tr>\n",
       "      <th>Sex_male</th>\n",
       "      <td>0.145783</td>\n",
       "    </tr>\n",
       "    <tr>\n",
       "      <th>Fare</th>\n",
       "      <td>0.134769</td>\n",
       "    </tr>\n",
       "    <tr>\n",
       "      <th>Sex_female</th>\n",
       "      <td>0.125299</td>\n",
       "    </tr>\n",
       "    <tr>\n",
       "      <th>Pclass_3</th>\n",
       "      <td>0.050970</td>\n",
       "    </tr>\n",
       "    <tr>\n",
       "      <th>Pclass_1</th>\n",
       "      <td>0.048541</td>\n",
       "    </tr>\n",
       "    <tr>\n",
       "      <th>TicketGroup</th>\n",
       "      <td>0.047501</td>\n",
       "    </tr>\n",
       "    <tr>\n",
       "      <th>Age</th>\n",
       "      <td>0.040064</td>\n",
       "    </tr>\n",
       "    <tr>\n",
       "      <th>HasCabin</th>\n",
       "      <td>0.027771</td>\n",
       "    </tr>\n",
       "    <tr>\n",
       "      <th>SibSp</th>\n",
       "      <td>0.021431</td>\n",
       "    </tr>\n",
       "    <tr>\n",
       "      <th>Pclass_2</th>\n",
       "      <td>0.015565</td>\n",
       "    </tr>\n",
       "    <tr>\n",
       "      <th>Parch</th>\n",
       "      <td>0.009488</td>\n",
       "    </tr>\n",
       "  </tbody>\n",
       "</table>\n",
       "</div>"
      ],
      "text/plain": [
       "             MI Scores\n",
       "Sex_male      0.145783\n",
       "Fare          0.134769\n",
       "Sex_female    0.125299\n",
       "Pclass_3      0.050970\n",
       "Pclass_1      0.048541\n",
       "TicketGroup   0.047501\n",
       "Age           0.040064\n",
       "HasCabin      0.027771\n",
       "SibSp         0.021431\n",
       "Pclass_2      0.015565\n",
       "Parch         0.009488"
      ]
     },
     "metadata": {},
     "output_type": "display_data"
    }
   ],
   "source": [
    "from sklearn.feature_selection import mutual_info_classif\n",
    "\n",
    "drop_features = []\n",
    "features = ['Age', 'Fare', 'SibSp', 'Parch', 'Pclass_1', 'Pclass_2', 'Pclass_3', 'Sex_female', 'Sex_male', 'HasCabin',\n",
    "            'TicketGroup',\n",
    "           ]\n",
    "y = train['Survived']\n",
    "x_train = total_data[0:891][features].drop(drop_features, axis=1)\n",
    "mi_scores =mutual_info_classif(x_train, y)\n",
    "mi_scores = pd.Series(mi_scores, name=\"MI Scores\", index=x_train.columns)\n",
    "mi_scores = mi_scores.sort_values(ascending=False)\n",
    "display(mi_scores.to_frame())"
   ]
  },
  {
   "cell_type": "code",
   "execution_count": 32,
   "id": "f8acf91f",
   "metadata": {
    "execution": {
     "iopub.execute_input": "2023-06-19T03:03:38.766812Z",
     "iopub.status.busy": "2023-06-19T03:03:38.765704Z",
     "iopub.status.idle": "2023-06-19T03:03:38.770235Z",
     "shell.execute_reply": "2023-06-19T03:03:38.769589Z"
    },
    "papermill": {
     "duration": 0.028459,
     "end_time": "2023-06-19T03:03:38.771999",
     "exception": false,
     "start_time": "2023-06-19T03:03:38.743540",
     "status": "completed"
    },
    "tags": []
   },
   "outputs": [],
   "source": [
    "# plt.figure(figsize=(12, 6))\n",
    "# sns.heatmap(pd.DataFrame(rf_scores, columns=depth_list, index=est_list), annot=True, fmt='.4g')\n"
   ]
  },
  {
   "cell_type": "code",
   "execution_count": 33,
   "id": "93fbe6a8",
   "metadata": {
    "execution": {
     "iopub.execute_input": "2023-06-19T03:03:38.813650Z",
     "iopub.status.busy": "2023-06-19T03:03:38.812928Z",
     "iopub.status.idle": "2023-06-19T03:03:51.748325Z",
     "shell.execute_reply": "2023-06-19T03:03:51.746879Z"
    },
    "papermill": {
     "duration": 12.958938,
     "end_time": "2023-06-19T03:03:51.750880",
     "exception": false,
     "start_time": "2023-06-19T03:03:38.791942",
     "status": "completed"
    },
    "tags": []
   },
   "outputs": [
    {
     "name": "stdout",
     "output_type": "stream",
     "text": [
      "train score: 0.8908507223113965\n",
      "valid score: 0.7985074626865671\n"
     ]
    },
    {
     "data": {
      "text/html": [
       "\n",
       "    <style>\n",
       "    table.eli5-weights tr:hover {\n",
       "        filter: brightness(85%);\n",
       "    }\n",
       "</style>\n",
       "\n",
       "\n",
       "\n",
       "    \n",
       "\n",
       "    \n",
       "\n",
       "    \n",
       "\n",
       "    \n",
       "\n",
       "    \n",
       "\n",
       "    \n",
       "\n",
       "\n",
       "    \n",
       "\n",
       "    \n",
       "\n",
       "    \n",
       "\n",
       "    \n",
       "\n",
       "    \n",
       "\n",
       "    \n",
       "\n",
       "\n",
       "    \n",
       "\n",
       "    \n",
       "\n",
       "    \n",
       "\n",
       "    \n",
       "\n",
       "    \n",
       "        <table class=\"eli5-weights eli5-feature-importances\" style=\"border-collapse: collapse; border: none; margin-top: 0em; table-layout: auto;\">\n",
       "    <thead>\n",
       "    <tr style=\"border: none;\">\n",
       "        <th style=\"padding: 0 1em 0 0.5em; text-align: right; border: none;\">Weight</th>\n",
       "        <th style=\"padding: 0 0.5em 0 0.5em; text-align: left; border: none;\">Feature</th>\n",
       "    </tr>\n",
       "    </thead>\n",
       "    <tbody>\n",
       "    \n",
       "        <tr style=\"background-color: hsl(120, 100.00%, 80.00%); border: none;\">\n",
       "            <td style=\"padding: 0 1em 0 0.5em; text-align: right; border: none;\">\n",
       "                0.0870\n",
       "                \n",
       "                    &plusmn; 0.0065\n",
       "                \n",
       "            </td>\n",
       "            <td style=\"padding: 0 0.5em 0 0.5em; text-align: left; border: none;\">\n",
       "                Age\n",
       "            </td>\n",
       "        </tr>\n",
       "    \n",
       "        <tr style=\"background-color: hsl(120, 100.00%, 82.17%); border: none;\">\n",
       "            <td style=\"padding: 0 1em 0 0.5em; text-align: right; border: none;\">\n",
       "                0.0738\n",
       "                \n",
       "                    &plusmn; 0.0124\n",
       "                \n",
       "            </td>\n",
       "            <td style=\"padding: 0 0.5em 0 0.5em; text-align: left; border: none;\">\n",
       "                Sex_male\n",
       "            </td>\n",
       "        </tr>\n",
       "    \n",
       "        <tr style=\"background-color: hsl(120, 100.00%, 87.66%); border: none;\">\n",
       "            <td style=\"padding: 0 1em 0 0.5em; text-align: right; border: none;\">\n",
       "                0.0437\n",
       "                \n",
       "                    &plusmn; 0.0148\n",
       "                \n",
       "            </td>\n",
       "            <td style=\"padding: 0 0.5em 0 0.5em; text-align: left; border: none;\">\n",
       "                Sex_female\n",
       "            </td>\n",
       "        </tr>\n",
       "    \n",
       "        <tr style=\"background-color: hsl(120, 100.00%, 89.43%); border: none;\">\n",
       "            <td style=\"padding: 0 1em 0 0.5em; text-align: right; border: none;\">\n",
       "                0.0350\n",
       "                \n",
       "                    &plusmn; 0.0119\n",
       "                \n",
       "            </td>\n",
       "            <td style=\"padding: 0 0.5em 0 0.5em; text-align: left; border: none;\">\n",
       "                Pclass_3\n",
       "            </td>\n",
       "        </tr>\n",
       "    \n",
       "        <tr style=\"background-color: hsl(120, 100.00%, 90.47%); border: none;\">\n",
       "            <td style=\"padding: 0 1em 0 0.5em; text-align: right; border: none;\">\n",
       "                0.0302\n",
       "                \n",
       "                    &plusmn; 0.0110\n",
       "                \n",
       "            </td>\n",
       "            <td style=\"padding: 0 0.5em 0 0.5em; text-align: left; border: none;\">\n",
       "                Fare\n",
       "            </td>\n",
       "        </tr>\n",
       "    \n",
       "        <tr style=\"background-color: hsl(120, 100.00%, 94.67%); border: none;\">\n",
       "            <td style=\"padding: 0 1em 0 0.5em; text-align: right; border: none;\">\n",
       "                0.0132\n",
       "                \n",
       "                    &plusmn; 0.0047\n",
       "                \n",
       "            </td>\n",
       "            <td style=\"padding: 0 0.5em 0 0.5em; text-align: left; border: none;\">\n",
       "                SibSp\n",
       "            </td>\n",
       "        </tr>\n",
       "    \n",
       "        <tr style=\"background-color: hsl(120, 100.00%, 95.92%); border: none;\">\n",
       "            <td style=\"padding: 0 1em 0 0.5em; text-align: right; border: none;\">\n",
       "                0.0090\n",
       "                \n",
       "                    &plusmn; 0.0026\n",
       "                \n",
       "            </td>\n",
       "            <td style=\"padding: 0 0.5em 0 0.5em; text-align: left; border: none;\">\n",
       "                HasCabin\n",
       "            </td>\n",
       "        </tr>\n",
       "    \n",
       "        <tr style=\"background-color: hsl(120, 100.00%, 96.02%); border: none;\">\n",
       "            <td style=\"padding: 0 1em 0 0.5em; text-align: right; border: none;\">\n",
       "                0.0087\n",
       "                \n",
       "                    &plusmn; 0.0044\n",
       "                \n",
       "            </td>\n",
       "            <td style=\"padding: 0 0.5em 0 0.5em; text-align: left; border: none;\">\n",
       "                Pclass_2\n",
       "            </td>\n",
       "        </tr>\n",
       "    \n",
       "        <tr style=\"background-color: hsl(120, 100.00%, 96.44%); border: none;\">\n",
       "            <td style=\"padding: 0 1em 0 0.5em; text-align: right; border: none;\">\n",
       "                0.0074\n",
       "                \n",
       "                    &plusmn; 0.0060\n",
       "                \n",
       "            </td>\n",
       "            <td style=\"padding: 0 0.5em 0 0.5em; text-align: left; border: none;\">\n",
       "                Parch\n",
       "            </td>\n",
       "        </tr>\n",
       "    \n",
       "        <tr style=\"background-color: hsl(120, 100.00%, 97.36%); border: none;\">\n",
       "            <td style=\"padding: 0 1em 0 0.5em; text-align: right; border: none;\">\n",
       "                0.0048\n",
       "                \n",
       "                    &plusmn; 0.0035\n",
       "                \n",
       "            </td>\n",
       "            <td style=\"padding: 0 0.5em 0 0.5em; text-align: left; border: none;\">\n",
       "                Pclass_1\n",
       "            </td>\n",
       "        </tr>\n",
       "    \n",
       "    \n",
       "    </tbody>\n",
       "</table>\n",
       "    \n",
       "\n",
       "    \n",
       "\n",
       "\n",
       "    \n",
       "\n",
       "    \n",
       "\n",
       "    \n",
       "\n",
       "    \n",
       "\n",
       "    \n",
       "\n",
       "    \n",
       "\n",
       "\n",
       "\n"
      ],
      "text/plain": [
       "<IPython.core.display.HTML object>"
      ]
     },
     "metadata": {},
     "output_type": "display_data"
    },
    {
     "name": "stdout",
     "output_type": "stream",
     "text": [
      "[0 0 0 0 1 0 0 0 1 0 0 0 1 0 1 1 0 0 0 0 0 1 1 0 1 0 1 0 0 0 0 0 1 0 0 0 1\n",
      " 0 0 0 0 0 0 1 1 0 0 0 1 0 0 0 1 1 0 0 0 0 0 1 0 0 0 1 0 1 1 0 0 1 1 0 0 0\n",
      " 1 0 0 1 0 1 1 0 0 0 0 0 0 1 0 1 1 0 1 0 0 0 1 0 1 0 1 0 0 0 1 0 0 0 0 0 0\n",
      " 1 1 1 1 0 0 1 0 1 1 0 1 0 0 1 0 1 0 0 0 0 0 0 0 0 0 0 0 0 0 1 0 0 0 0 0 0\n",
      " 0 0 1 0 0 0 0 0 1 1 0 1 1 1 1 0 0 1 0 0 1 0 0 0 0 0 0 1 1 0 1 1 0 0 1 0 1\n",
      " 0 1 0 0 0 0 0 1 0 1 0 1 1 0 0 1 1 0 1 0 0 0 0 1 0 0 0 0 1 0 0 1 0 1 0 1 0\n",
      " 1 0 1 0 0 1 0 0 0 1 0 0 0 0 0 0 1 1 1 1 0 0 1 0 1 0 1 0 1 0 0 0 0 0 0 0 1\n",
      " 0 0 0 1 1 0 0 0 0 1 0 0 0 1 1 0 1 0 0 0 0 0 1 1 1 1 0 0 0 0 0 0 1 0 0 0 0\n",
      " 1 0 0 0 0 0 0 0 1 1 0 1 0 0 0 0 0 0 1 1 0 0 0 0 0 0 0 0 1 0 1 0 0 0 1 0 0\n",
      " 1 0 0 0 0 0 1 0 0 0 1 1 1 0 1 0 1 1 0 0 0 1 0 1 0 0 0 0 1 1 0 1 0 0 0 1 0\n",
      " 0 1 0 0 1 1 0 0 0 0 0 0 0 1 0 1 0 0 0 0 0 1 0 0 0 1 0 1 0 0 1 0 1 0 1 0 0\n",
      " 0 1 1 1 1 0 0 1 0 0 1]\n"
     ]
    }
   ],
   "source": [
    "from sklearn.ensemble import RandomForestClassifier, BaggingClassifier\n",
    "from sklearn.inspection import PartialDependenceDisplay\n",
    "from sklearn.model_selection import train_test_split\n",
    "\n",
    "drop_features = []\n",
    "import random\n",
    "\n",
    "# for i in range(100):\n",
    "#     features = ['Age', 'Fare', 'SibSp', 'Parch', 'Pclass_1', 'Pclass_2', 'Pclass_3', 'Sex_female', 'Sex_male', 'HasCabin',\n",
    "# #                 'TicketGroup',\n",
    "#                ]\n",
    "#     # features = ['Sex_female', 'Pclass_3', 'SibSp', 'Age', 'Fare', 'HasCabin', 'Pclass_2', 'Sex_male', 'Pclass_1', 'Parch']\n",
    "#     random.shuffle(features)\n",
    "#     print(features)\n",
    "#     features = [x for x in features if x not in drop_features]\n",
    "#     y = train['Survived']\n",
    "#     x_train = total_data[0:891][features].drop(drop_features, axis=1)\n",
    "#     x_train, x_valid, y_train, y_valid = train_test_split(x_train, y, train_size=0.7, random_state=1)\n",
    "#     x_test = total_data[891:][features].drop(drop_features, axis=1)\n",
    "\n",
    "#     # display(x_train.head())\n",
    "\n",
    "#     est_list = [200, 220, 240, 260, 280, 300]\n",
    "#     depth_list = [7]\n",
    "#     rf_scores = []\n",
    "#     show = False\n",
    "#     for n in est_list:\n",
    "#         n_scores = []\n",
    "#         for d in depth_list:\n",
    "#     #         print(n, d)\n",
    "#             rf = RandomForestClassifier(n_estimators=n, max_depth=d, random_state=1, )\n",
    "#             rf.fit(x_train, y_train)\n",
    "#     #         print(f'train score: {rf.score(x_train, y_train)}') # 0.9036918138041734\n",
    "#             rf.predict(x_valid)\n",
    "#     #         print(f'valid score: {rf.score(x_valid, y_valid)}') # 0.7947761194029851\n",
    "#             score = rf.score(x_valid, y_valid)\n",
    "#             if score > 0.795:\n",
    "#                 show = True\n",
    "#             n_scores.append(score)\n",
    "#     #         perm = PermutationImportance(rf, random_state=1).fit(x_train, y_train)\n",
    "#     #         display(eli5.show_weights(perm, feature_names = features, top=len(features)))\n",
    "#         rf_scores.append(n_scores)\n",
    "\n",
    "#     if show:\n",
    "#         plt.figure(figsize=(12, 6))\n",
    "#         sns.heatmap(pd.DataFrame(rf_scores, columns=depth_list, index=est_list), annot=True, fmt='.4g')\n",
    "#         plt.show()\n",
    "\n",
    "# ddd\n",
    "\n",
    "features = ['Age', 'Fare', 'SibSp', 'Parch', 'Pclass_1', 'Pclass_2', 'Pclass_3', 'Sex_female', 'Sex_male', 'HasCabin']\n",
    "features = [x for x in features if x not in drop_features]\n",
    "y = train['Survived']\n",
    "x_train = total_data[0:891][features].drop(drop_features, axis=1)\n",
    "x_train, x_valid, y_train, y_valid = train_test_split(x_train, y, train_size=0.7, random_state=1)\n",
    "x_test = total_data[891:][features].drop(drop_features, axis=1)\n",
    "    \n",
    "# min_split = [2,4,6,8,10,12,14,16,18,20]\n",
    "# min_leaf = [1, 2,4,6,8,10,12,14,16,18,20]\n",
    "# for leaf in min_leaf:\n",
    "#     for split in min_split:\n",
    "#         print(leaf, split)\n",
    "#         rf = RandomForestClassifier(n_estimators=220, max_depth=7, random_state=1, min_samples_split=split, min_samples_leaf=leaf)\n",
    "#         rf.fit(x_train, y_train)\n",
    "#         print(f'train score: {rf.score(x_train, y_train)}') # 0.9036918138041734\n",
    "#         rf.predict(x_valid)\n",
    "#         print(f'valid score: {rf.score(x_valid, y_valid)}') # 0.7947761194029851\n",
    "\n",
    "rf = RandomForestClassifier(n_estimators=220, max_depth=7, random_state=1, min_samples_split=4, min_samples_leaf=1)\n",
    "rf.fit(x_train, y_train)\n",
    "print(f'train score: {rf.score(x_train, y_train)}') # 0.9036918138041734\n",
    "rf.predict(x_valid)\n",
    "print(f'valid score: {rf.score(x_valid, y_valid)}') # 0.7947761194029851\n",
    "\n",
    "        \n",
    "import eli5\n",
    "from eli5.sklearn import PermutationImportance\n",
    "\n",
    "is_test = True\n",
    "if is_test:\n",
    "    perm = PermutationImportance(rf, random_state=1).fit(x_train, y_train)\n",
    "    display(eli5.show_weights(perm, feature_names = features, top=len(features)))\n",
    "\n",
    "#     fig, axs = plt.subplots(ncols=4, nrows=1, figsize=(20, 5))\n",
    "#     for i in range(len(['Age', 'FareGroup', 'SibSp', 'Parch'])):\n",
    "#         PartialDependenceDisplay.from_estimator(rf, x_train, [features[i]], ax=axs[i])\n",
    "#     plt.show()\n",
    "    \n",
    "    # Export the first three decision trees from the forest\n",
    "    # Tree Visualisation\n",
    "#     from sklearn.tree import export_graphviz\n",
    "#     from IPython.display import Image\n",
    "#     import graphviz\n",
    "\n",
    "#     for i in range(3):\n",
    "#         tree = rf.estimators_[i]\n",
    "#         dot_data = export_graphviz(tree,\n",
    "#                                    feature_names=x_train.columns,  \n",
    "#                                    filled=True,  \n",
    "#                                    max_depth=5, \n",
    "#                                    impurity=False, \n",
    "#                                    proportion=False)\n",
    "#         graph = graphviz.Source(dot_data)\n",
    "#         display(graph)\n",
    "\n",
    "\n",
    "# 做預測\n",
    "predictions = rf.predict(x_test)\n",
    "print(predictions)\n",
    "\n",
    "output = pd.DataFrame({'PassengerId': test['PassengerId'], 'Survived': predictions})\n",
    "output.to_csv('submission.csv', index=False)"
   ]
  }
 ],
 "metadata": {
  "kernelspec": {
   "display_name": "Python 3",
   "language": "python",
   "name": "python3"
  },
  "language_info": {
   "codemirror_mode": {
    "name": "ipython",
    "version": 3
   },
   "file_extension": ".py",
   "mimetype": "text/x-python",
   "name": "python",
   "nbconvert_exporter": "python",
   "pygments_lexer": "ipython3",
   "version": "3.10.10"
  },
  "papermill": {
   "default_parameters": {},
   "duration": 37.123596,
   "end_time": "2023-06-19T03:03:55.382457",
   "environment_variables": {},
   "exception": null,
   "input_path": "__notebook__.ipynb",
   "output_path": "__notebook__.ipynb",
   "parameters": {},
   "start_time": "2023-06-19T03:03:18.258861",
   "version": "2.4.0"
  }
 },
 "nbformat": 4,
 "nbformat_minor": 5
}
